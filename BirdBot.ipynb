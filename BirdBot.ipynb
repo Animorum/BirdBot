{
 "cells": [
  {
   "cell_type": "code",
   "execution_count": 3,
   "metadata": {
    "colab": {
     "base_uri": "https://localhost:8080/"
    },
    "id": "LHpkAF0DIJBu",
    "outputId": "0bb8fcf5-686b-4dc6-f91b-88e61ccabb11"
   },
   "outputs": [],
   "source": [
    "# !pip install -Uqq fastbook\n",
    "#import fastbook"
   ]
  },
  {
   "cell_type": "code",
   "execution_count": 4,
   "metadata": {},
   "outputs": [],
   "source": [
    "from fastai.vision.all import *\n",
    "from fastai.vision.widgets import *"
   ]
  },
  {
   "cell_type": "code",
   "execution_count": 6,
   "metadata": {
    "colab": {
     "base_uri": "https://localhost:8080/"
    },
    "id": "SNr6l6Jj9aWc",
    "outputId": "2a042c9a-9a8f-44a3-c15b-3146dff7e5cb"
   },
   "outputs": [],
   "source": [
    "# !pip install -Uqq voila"
   ]
  },
  {
   "cell_type": "code",
   "execution_count": 7,
   "metadata": {
    "colab": {
     "base_uri": "https://localhost:8080/"
    },
    "id": "QQfVLLNB98uM",
    "outputId": "79780e9d-98bd-44d5-9bf1-4fa3fe48525a"
   },
   "outputs": [
    {
     "name": "stdout",
     "output_type": "stream",
     "text": [
      "Enabling: voila\n",
      "- Writing config: /srv/conda/envs/notebook/etc/jupyter\n",
      "    - Validating...\n",
      "      voila 0.2.6 \u001b[32mOK\u001b[0m\n"
     ]
    }
   ],
   "source": [
    "# !jupyter serverextension enable --sys-prefix voila"
   ]
  },
  {
   "cell_type": "markdown",
   "metadata": {
    "id": "7KK-9b_lMlFp"
   },
   "source": [
    "#BirdBot"
   ]
  },
  {
   "cell_type": "markdown",
   "metadata": {},
   "source": [
    "BirdBot is learning to recognize birds, but currently only knows that red-tailed hawks, kestrels, and mourning doves exist."
   ]
  },
  {
   "cell_type": "code",
   "execution_count": 8,
   "metadata": {
    "id": "KZBbHTLTKIwI"
   },
   "outputs": [],
   "source": [
    "path = Path()\n",
    "learn_inf = load_learner(path/\"birds_export.pkl\", cpu=True)\n",
    "btn_upload = widgets.FileUpload()\n",
    "out_pl = widgets.Output()\n",
    "lbl_pred = widgets.Label()"
   ]
  },
  {
   "cell_type": "code",
   "execution_count": 9,
   "metadata": {
    "id": "YcpVrj0q1Q0z"
   },
   "outputs": [],
   "source": [
    "def on_data_change(change):\n",
    "  lbl_pred.value = \"\"\n",
    "  img = PILImage.create(btn_upload.data[-1])\n",
    "  out_pl.clear_output()\n",
    "  with out_pl: display(img.to_thumb(224,224))\n",
    "  pred,pred_idx,probs = learn_inf.predict(img)\n",
    "  lbl_pred.value = f\"This looks like a {pred}.\"\n"
   ]
  },
  {
   "cell_type": "code",
   "execution_count": 10,
   "metadata": {
    "id": "Iew3C-zg3eYl"
   },
   "outputs": [],
   "source": [
    "btn_upload.observe(on_data_change, names=[\"data\"])"
   ]
  },
  {
   "cell_type": "code",
   "execution_count": 11,
   "metadata": {
    "colab": {
     "base_uri": "https://localhost:8080/",
     "height": 292,
     "referenced_widgets": [
      "770c4ea239944ff1aa3f81606564f009",
      "645c5e6d239e48f38485c8e365725445",
      "9a3fcc2ce92a4f24b60b0a9d937e9403",
      "94b9f7b41d5e44e488783f2f1845fdb3",
      "518a2ddecefb4ffdb428f2bf7bad630b",
      "6cadad1bbe174927b3793aaac44e1209",
      "fd934a8ab4684583bc319a73abe8e5fb",
      "7e32d753d0ee454c8d1d97f0e9230610",
      "d6f97077e5e84ba69816a47e476cbd16",
      "4ee4f6637310444d8072f3ecbcf3d653",
      "5a8c5112047246e288894a071f593790",
      "ad4bb1275f5c443dbc5f444da18c14c3",
      "78aa37ee73864def80837406e92208ca"
     ]
    },
    "id": "yD7mnJjr3kbF",
    "outputId": "001d0995-df82-455f-abd1-f466c1bc2af4"
   },
   "outputs": [
    {
     "data": {
      "application/vnd.jupyter.widget-view+json": {
       "model_id": "1eec236753b64942896d8c750f23757f",
       "version_major": 2,
       "version_minor": 0
      },
      "text/plain": [
       "VBox(children=(Label(value='Give me a bird!'), FileUpload(value={}, description='Upload'), Output(), Label(val…"
      ]
     },
     "metadata": {},
     "output_type": "display_data"
    },
    {
     "data": {
      "text/html": [],
      "text/plain": [
       "<IPython.core.display.HTML object>"
      ]
     },
     "metadata": {},
     "output_type": "display_data"
    }
   ],
   "source": [
    "display(VBox([widgets.Label(\"Give me a bird!\"), btn_upload, out_pl, lbl_pred]))"
   ]
  },
  {
   "cell_type": "code",
   "execution_count": null,
   "metadata": {},
   "outputs": [],
   "source": []
  }
 ],
 "metadata": {
  "colab": {
   "collapsed_sections": [],
   "name": "BirdBot.ipynb",
   "provenance": []
  },
  "kernelspec": {
   "display_name": "Python 3",
   "language": "python",
   "name": "python3"
  },
  "language_info": {
   "codemirror_mode": {
    "name": "ipython",
    "version": 3
   },
   "file_extension": ".py",
   "mimetype": "text/x-python",
   "name": "python",
   "nbconvert_exporter": "python",
   "pygments_lexer": "ipython3",
   "version": "3.6.11"
  },
  "widgets": {
   "application/vnd.jupyter.widget-state+json": {
    "4ee4f6637310444d8072f3ecbcf3d653": {
     "model_module": "@jupyter-widgets/base",
     "model_name": "LayoutModel",
     "state": {
      "_model_module": "@jupyter-widgets/base",
      "_model_module_version": "1.2.0",
      "_model_name": "LayoutModel",
      "_view_count": null,
      "_view_module": "@jupyter-widgets/base",
      "_view_module_version": "1.2.0",
      "_view_name": "LayoutView",
      "align_content": null,
      "align_items": null,
      "align_self": null,
      "border": null,
      "bottom": null,
      "display": null,
      "flex": null,
      "flex_flow": null,
      "grid_area": null,
      "grid_auto_columns": null,
      "grid_auto_flow": null,
      "grid_auto_rows": null,
      "grid_column": null,
      "grid_gap": null,
      "grid_row": null,
      "grid_template_areas": null,
      "grid_template_columns": null,
      "grid_template_rows": null,
      "height": null,
      "justify_content": null,
      "justify_items": null,
      "left": null,
      "margin": null,
      "max_height": null,
      "max_width": null,
      "min_height": null,
      "min_width": null,
      "object_fit": null,
      "object_position": null,
      "order": null,
      "overflow": null,
      "overflow_x": null,
      "overflow_y": null,
      "padding": null,
      "right": null,
      "top": null,
      "visibility": null,
      "width": null
     }
    },
    "518a2ddecefb4ffdb428f2bf7bad630b": {
     "model_module": "@jupyter-widgets/output",
     "model_name": "OutputModel",
     "state": {
      "_dom_classes": [],
      "_model_module": "@jupyter-widgets/output",
      "_model_module_version": "1.0.0",
      "_model_name": "OutputModel",
      "_view_count": null,
      "_view_module": "@jupyter-widgets/output",
      "_view_module_version": "1.0.0",
      "_view_name": "OutputView",
      "layout": "IPY_MODEL_78aa37ee73864def80837406e92208ca",
      "msg_id": "",
      "outputs": [
       {
        "image/png": "iVBORw0KGgoAAAANSUhEUgAAAOAAAACzCAIAAAAfVYfvAACncElEQVR4nOz92ZIkyZUgiunRxXYz3z32yD1rRQHoRndP9/T0MjJzr8wV8pL37Qr5DXy7IvwfPlDuD5DCh5npmekGugE0UACqUFWZWbnFvvjututy+GDhkZGZ5lEeyCpghpwjkZEe6mqmaqrHzn6Owv/2f/tfyFsAAG83EjCEYE17HQCs2nN1QITLib394fIzAAAi1E215rmgfqqIq12+dKqrPj4ivuNYtWDe5eIbwhJs0StejoZec0+++lISgisi6Lut7fLh35oqAFw2Xv1McNWpVr1XGetG8O4I+o7w7d/xO5vC9Y/PDda8bIDLKOiqgwL9LigoJQbJxeuF1e9Xs1uQT0IQCEIdEal91/9/k4J+NzSiFoC8E7bUP/7inlybG6Ddiv0ACHwXVOHVPfEKjr4a9PIrIPXSSN2m43fBD29EFL8LBK2lML9fWH0FrpsrN3UIWn/v1cVK8x3JoBX5JASAGAL0gkq+arn8QFaWQQliPa2tncDNpvo7dwZ4ZwR9l4u/nbFWfe2B1Migl/fkpu72S9Z3ZUoDpJbDviNcSNMAFfK9kkMWLYsP11DQGgStf/HebYfflYLiu8rxf3gZdHUKdb0Mquu+XrK+qw/5rgSg/q4VBSWEXKDiAikv9aRFTwpLBKO6RmNq9E1aN3+zumR5A8Gphly/+9r9PmXQWia8OtA6deVSNOdS12xP/ZAri73vzqFqL9fakEvxefE9BXr5+RIpoQ49YRmLr6egq7OLWqS/AQlbWRqph1pq8vuUQWtf29V5CCzBq+oGXNe9rgg1YsFNoF4EXB1ql9dcFVYuDUpQMxRFpG+1Qv2e1xukbrC+dY03Y/Er37b+8rqxVjVCfmeAqz/BtbSg3g66hJetvGf4zlyq7vLaWdWaCxBqHhqWTaqO2uGNHrbmlu8qBL4j3r/7BN4R8AY0/FoE1bXbU4vUN7CD1rOtG0A916gj9nXzpwRrWcASn8c7krA6M8g7o8c7mhHUH9rMhHplbLmWWy/T4pc93+qM7x23qPa1qfOJ1avgaFYX7L4zi9i7QO1UV7+t/kPr8bi6mnY9ize1BKD28SoVZRWg5h3NTLV0kSBb8XIKpv4NqfeQrWjSr4clOPPuLH5V3at2qjfxv3wnUEtNlsB1AjOvRYV3tYOad/XHL5GBV52AWeZ/q7tp7XMtcd/VXV8715s9/eu9cTH8pR2NVDQDa/3StFbNXZ2Ef0eBEzcwSl5rB4U6TF9ixlv5UcBgncBaTxVuQGxWf0NqHhqgRo9HrN9LRmuWxdSZ5OoF2Bsp8a/3xsW8GOeEEK21MQiUMsauEpNLZiAXm3WVPVw1YsDCfAxILiW+S1vdTWJVoFZgfEdxBqHekFLBjaKZVh9zSfu7vqzvNNWl3oeVzXg3C/xaFV5blAWSAcGFAwEBCAEEVIjaXMXCSsyDhVv56j6/8lnga3+9PhLcfKp1jPsdUeharODvdOv/Dt8K1EnGQNhi3y+8WojkapgrwoLyUgqvrroA+pYwUB+h9m3AtxGaeEMK+q6uzjrr9zLXyO+VhNePv+oK3GCqNyNLQC6x9MqFFBiBisUbyigFxq+Sz8XFlT70GqF8jS9AFVGIV++OFBeWlhuGo/6+jQPfDYuvg9/bQDecwxIl/Pe2LAQujLZXBjRoCBJuM0KI0sYopAQYZxV/rVD54jMhlSRwGZuwkC5fv+cF9r/GoBeCwerq9nelT10DN42oX73nfzMUdPX272KpkMDbeipFAABTIgJhhFFGAcGUSHSl1y9uDwSRMAJYcfwrIiUQRi70D0Iu7R9QM7N3X/53ZfHXx4N+F9Gy9fP4r5SCLjOJf/ezqUZHAHxlKUJESoAzhkjyLAMgtm1zS8iyzPOC6wsblEGDhBiCjFLbcbAyvFzYowgQYggQQIJYkVaAilSbBXJffbzV9/oP4J6qV5JWkUF/ByT+NkyGq91zCXp9Fy/euwFSAIpgtAEAbUwY+PFsXkrVarbKNM3idL3bC7xgMplgJmVR2raVZnnUiBjnQRCOJ+MiLZhgfhCkaQYAjFGDCASBMUppkedAAQnRSgEFoJcqGS7+4cp7gLVhbu+6qtcSiBto8bh4ogvLMeJ/ffv9OwD8QdMjkBIqyxIIEVxQoLPxxGizsbbebbXHJ2cMoe03CJpinpRJWqSFygrhWL1mWxtDEIlSoM18HnOkRutSFoik1WpmSqtcUkoXKTDIgBnyWgIUXhpIV5zrd5M+Vd2jdjRyIxkUERf2DrzE0WXD/d72/EYUdMktvqWp3ByQIKOUEMo5Z4wFnre/vx+FUb/ZypO06fp+f82l7ODgeD4cMaD9Ts+yLduyiiQ9GwwAwPf9OJsLYGWaCduKmq14Hk8GI8Ptoiw5Z1GzQSlIU1JGiVEakeCFbXyh2eOKr+h3tE7XG0xupiRdiWG/Hkevs2y93fX3Bt8CNn+rgISosuQGGCI1hmrTCSMAkGkmk7TTbLq2PTg6Hp+ceVx4ntftdQlAVuTzOPVtyw98JKTbbFquPZ1OtSwpuq5tEaPiEsGAkppowjgzTORFBqzSpJAQunD1/eEVg/rIs98NQa8y92twFG4Srvr7hCUI+o7R2bUjrdYNiFEakHjCaTSb0/Gk6ftpmrTCQHJxfHQ0LYrJcEQp7Xe6wrKM1pwxok2Z51maNvzAUGhGESEYbW62250kSQ6OjixhBdzV2szi2WQ0cX3X8RxEQINIK9pZGUoRAQFx5RTc7wSbvzUKCnCZVwmXOLpELsHV1eB3fOgbEcUlnf9gdi5EwiilSgeev9HtnR4c+m07dHyBcDo4nw1HlrAYEldYoetGjWgu1bOnT8+Hg7zIPc+jlAjBZtOxsKxiWhwfHaZZ3um0b+/cfn4yS5JMFmWcJl7utaDJBDOgEellhRhcqPz/NcPvTjz+azAb3Ryw7uf3OPZi0XDxJ+eMEvRcuyzy0dl56HrtVuPk+Pjk8Mi1bd+xTSkdISwGsiweP/5yODwjqC3B79y+FYVBGsdGqdPjo3g2azcba/0uo+TZsyfpPJuNZ0UulVRZls2mc6MNMVeIyisgq/98J8tyLfAlgUvL7EEXkV8LmzDUO1IpWVk1xiVp6TXCg671WdcWC6lFPMQ6yQNWX3i6MrW5Grh5xVEOlFJjtNGmipbSaBzmtf1gq73+9OnjXjuKApugPpqdBhHvNCOj0fYdL4jy0uw/ezqaDh88eKiMLopCGX0+Gp4NBtoYSmmz3UnT4mxw7np+URZxKYuyBA4Ocw2aPC89ZbhgWD0EVDuIhmi6JO+6FuoVjvoMwVVpX22QwGUTrw3sXUId4XKGl4QACNTYsW5EmK5bHrw6GV0nLNbmBwPW5qfUZiUtTVWqvX5FeCNEqrqQEsIplVqD0kwwJIiIHncdZVuGY6lub2/PJoPJbFDoOArDqOOn86K/tSHAOTsbD8az2+/dTco0z/Jer3d4fHx4dMo5D8KIEDKdJ4aQja3djc2t4+Oj7PjUpkwTIridFUWa5cksCRoRFYwgMVoDIuVAgYEhKwbaLt3Vd1M9lxipLlrr7aBLahj9gcWVP/gEVofXavK8wuyL8mZAKVAgSBjlzXYz0kIayYWYzmI/dKWmYdTW2jQandn40LHt6TgeTYaO54wmE84s1w+yotzZveMHTcdxKGPakKgRWbartDo7Pz89P1dKJ0kCQO2WKzjPizzLU8JpEPlcMKUUGkMJu1LQasXnusEafCsd3zXcrv7Z6E2Kh93goVcPo74BXfx9QoWglNJq3YQltNFM2HlZWI6HJWm2urM4sS2LUmYMLUvtuk5WFsxmrXbHarmCi35vDZFEzcbJyWmWlb1+fzqdHR4dn5x+naYJAFiWk+SZlCVlXCnFObeFXchsNp1aFnfdEBjRhhBEpRQz7Dt582+SYnkN8HpeWE9B66axDD2+A6jNbVgiLa8uZAAhq6Y63ah0xdUBKikGLgwehjIAigTRcYTtWoEfHp8eN9pNrUNE4MwOgiYQODsbldq4jNme3bE7lAsmbC6stCiOT07zx7nnBZzzf/zpz9vtjiHgh5HjBUVeSKXyLLcsQSkrsoxywRhlhmupiqJQymUCkDCDEhGB1pa5+Obn+sa+q3e9Br6FgOUlFbn+G4Lfd37ZJWO1LNtxrfWt/iyZGcQ0z3zXsyxXSYOIhIDnB6WUSAizaFakL5+d5lle5PlsHgvLajY7Ggkimczi0WQcJ4VjO4wxqZUuM0I8IQjARc1K13YQUCmVpqnjWQiaEGJbFqgbFupZFVY3EF2b1bn48AZG3YCCvisRXTm/dkmq+Lu/CzdRfla8Y70MWtUUwissnueyGE6GwAhBLIpMMDafzcIotIRFANI0Bkpc3xlPBufD0VcvzmWZ3b69devuA2B8OBjath0naZrmSVoWUiXZ1BLCdlzf8wgSzlgjapRSjqcz13cJJVLKsig8zyZApVGccEpJbS7ekudaealuJoMuXVh+FX8vl7UuY+y7QtB6e0HdTWutPPWGD1j1BUasz0la1v3y0/Vy25ss/mIsIwQzxiBqxrgxBo3xPIfbXKHM4kTrMk2njOp7t7eHw6FBHI/Pe/1+oxEcnR1+9uWLSQ4/+GTXGPzPf//TmSSCkFbodPrtbrv34UfbUpnxeFKWZVlKQYr5bKq1pgCllEVRWI4lGM/jTOvS992o6WOujFYUWI0ZZpkVp/ah63svEgwXd1+6XvUFhEm12vzCvFmFYS/yHt+oAH/VKllbHL7+YVaDazq+VtX7JsompUuVpFem8svHuYEv7dWz30DzvZwKgG3bSilVSEopIlJKgVHOeb/f+c3hXr/TtgUnKpblxLGN7bi9btRqh6XOGaXzuWp1g8l0AojNViM5mwYOmcT5Bx/1/uIv/tXO7u29l/unp+d5Xh6fHFNJsoQpqWbzuTHY7/Za7WZaZEmaxLPZAco79i6lVGsJgtXmLdc+Se1DLyHA+Ap54OLq+vWpvacxF9FMVUrgAkHfvOb1dqz9th5ugKBLu74R0Vdfi6GWrhNSu8SIF5V1r364gUn5dSVpRRS9RFDKqdZSa2VZHACN0a5r93u9yPE7rejk8MVaN/Jdu9fmJ6eHnuspVfzJH3/oRe29/ZPHT14wAa2OlaZ6NCmM0oFLOCNC0a2trVu7t4IwFEIIIbIsR4NFUdi2zRm3uHB933HcOI25LbY2N5IsmCezMi+iZqANQ7NyuOESBKW1DJeYS1pAF7Xo6iW3up2i9CJAgF/STkLqqePb1OKbiehNjDyruzFuIkosG/7S+XzVC30DHn/l2V/787pLFp3pRSQRAmBlDM3z3LatWzvb0+mg32uk8aDX6m/2mq2G4ZYlFe32upkCoHo+m6Im21v9ZqPz//p//yTO0OJEGXJrp9tpN1CrOJ5HUeja7ou9/cPDQ1tYnFKljSzLIAw9z9OotdFxHGdlBoQQCmhQScUY1NQyrHW6LX0nl8hZC6S6LLe9unXoVTTTVdRchqC1LcvGI+SGCLqkvSYg+p31oTdueDHEjZh1nfDzzVctPlJKGSNKac5BCDEcDs5Ozv7Fh59k6TgM7NloqkpWFqLVYI7Dg6iTSj0fSSBalXnDRwb4/nv3GlH4+PHz8Wjih1Gr1RaMc0Y7nXa/1Ts5Ozf6ucWFkcgZDyPPdXzbcapp2LadZLFWqijzNI59z3Fs26CuqRW3pJ5FLSyhoItn/saFqkfQC9Zaj6Dkm3biG0aFG/h3a0uU10wY8SZ17697RV5H/Ru8TFW/a17m66dyKcxUE2CMJWn6i3/+havw9u1+4Fo/+uGHW+sB5+V0ev78+Vc77MF4imnKQ8/93scfvf/+Ryfzk3/8yT/MZkkjau7uridJSRGbjZBRFJwhUoI68v1bu9vF3J3NplqbsiwRwPVEq9kcjEeObVt25/B4fzadRY1Qa0YZMLa6kFPbuFTMWu01rifA1X+8FhFvRFC/I6iJPa0VQZcaEb5hhgs0vTGCkhsqSZfAKNNaIaIQAgAIQcexy3n5288+7zR/uNYPfDvL86GR0+n0/PNf/6Mqy53b3/ejLh+qe7fv+o3Wyezg68dfl0VhjNQKjJZbW+uo5XQypkxQEIzS7e2twPcHJ4oxagyxbMdxPWbZcTwFQhhjge9J3QeqA99nnElV1lbbvImzZqk0sAq21CeqLS5ZIoNesejAQs1fNCG5opbWk2dY8ih1KHZFSXrt24WW/SrVZGUdaXkoVeXRAcBKQrqyNisytLef+LWWS16OQC6itvEy6Yky1As7KCJoBYK7qS4++/KL9lqwtvnDSTZ2HfCcsBf47Y3TRPJMybyczWLZX+9Erf55MtrZvf/++99/8WJ/HqedjkVBIFIhbNdxgTLHcaOo4Vi2K2A2Hk/juW07nV7XIPi+nZXl3sGeOi+ZAGHToih94TEKdaU8od78tnolwAW3qF7F35miccpf3Q0W1OR1YrXQxcirM+suoxprB64PoVuixF0WbrlqAHrNunT5qY4T1b/oV+Z4ZfhXQ7wuisLl6K86LL/t65YNuGy5uAiAIGFIgVQhVYqAIsQQQEQQljCKFbkSzANw05mclWbCzH6S7+eCst6t9fW4TM7Ojnof/2tdquOMZPNpqZTn2GfDeejc7TaFUioMQJZjrTWBYG3tDuV0Ok38IOx0mlqbIAx9atlgAUEncNfWWi+ev8yzshG1Oy318uWBF9lZkSsEZZQmqsaFW38KhaGre9jBkNVYTf0ZAQvgb8xjQS9rt4de+bz4sGT41dU9oLTCyEur543ettX9yEst8hfvJCBBClBllS2xXr15h9eo58V9CNCqrDgsaqFfvPfGGACkjFmu4MQCZIxrNNT3WoK7R0fnO1u9ZtB+9vVJOi+0koyAypUqjGv5gjpGZgcHz1/svWg1WoyzXre5e+s2IhZFGjqRZdm2xbSWWmsppe1YvV5359bGYHKOWt+6deuXv/psNIotzru9dqmyvJBAiOO4Ral1fTXkWgq6sgNzQXbI4sVd3vFaBL2qgr1tqL8KFPX1O3QJV4SA19trKCjgYtxvSsR7V1gmrS4GNVBROUAg9e99FVq7ilkDKACpDjuilZ0VgBCkQCghQBClVqbUeVEaTaNovde5JXjEqe97vfOz+PFXT+fToWPZDrfWe+v3dm/f2rk1m+f7x58++fLzopSe67b73TSJm82mF/qAfppMh8MzwUW73Wm2Wmfns7Pzs63tdd/z0jTprvUePnz445/88zxNszxVpiQEK3NpFe/8xpMu2QCElY+IXSAAhXc78qUy1C+kTKjmtkwtq2m+QVeyRAR91XrVhP4dRZvUilAXIuKVKS3jITVOjcVNXmt8Ra2hoqSAhDDOAZkxCzLAaBD6th0FXvPe/U/W+s3p5CRPyHRUvHh6LPOEEbKzubX+/vbuxm2L2A4jf/ZHPwBd/Oaz3z579vzs6GA0OL1z6+7D99+zBFNSUsZKnR8fxV8/+WKnfydN4tOzk2YrSNI4efGcUPv2nVtPnr48OjlOixiYms08zxeM1wR91yeyUWJWR7WFuL9sMa+s6nXA2aUMeOVmy+nHtSrC5dyWUPTax37LkYHfNOdvvufqAECqPJ3Fc7zpLbsKlz7BN0QrvBLYX7UbACQGLgom0SrLl3MLkJYFAYNaG0RiccsSoeu2HCcMgtYvfvFzoszLl6cvnx+vd5sP7t/7kx/+8JOPvteMGrPJ1BH2+przr//mL5XMsmQSBOHh0eHhwfM0mfbW1gjQtX6v0+2GUZOgevToyyJPp7NBkjbTIovjjNu+MVxrrbXO01xiNpl4m5trFgd8qwj3klzIJRGPtUArbzpW0XzXXKavpUb8jZW9BuVrR7kZBa0DeqUUCyLC9cEtb8GN0LNGwqjsBIvckleydd3lVwyxeCkbLDpfOk4uewKhpipqDFDV96CEUE6JpkRqLWWJmgRBo9fpCCYEt+eT+Gv5bD6JszgzzcYHDz9478FDTulkNMrTLAij+WgkhPXh++/1um0hxONHT756/MjiGPlOXhZpPMuz1A9HaZK0gy3GyPHJvnBof61vW87Xz/dHo3Q6iQXjgnNKhMUFqWSbmujyJUxs9X0FIIv39hsp6DVfc0LM4vpXB1zXOb+W2cCumd5KcKVYOAJcUsTfI4oSBlcSqVe5fEFA3whkuXpCuLlkBUAADBBCUGkKjFPKheCeKXJlCSvw7E6nYdvMtmi71Tg9fKHKfPfW9p//6R8/fHjfde0yz3Qp0/kEUQOY8WQYhb7R8uTkpNtr/8D9ZDqdMkpm4xGhwIUVzyfD0UCvi9u3d7v9KE5mg8EZoaLVbCaJ5jynlAKlru0Gvm9ZFoB6O0ysFj0R0NzAV3Kxj99oZvoGJYkBJW8TzrpLKKuJy1o6tbef+TWjI77d+I3ySr1gdBMWvyTM9Op8r3tCtsjae9t6clVPAkJypQgQRimlDBApEILESHRdqyyUKWToh6RMA8dthm4jtDhT8+ngX/zpH/3f/7f/x85m749+8P3drc0si48PE06JKgpG6XQ6HKYqSZJSybX1Tc/zZtOZ4/vD4fDJkyeMsV6v22l3hGM3B83zw2G7/cnm1trp8HRvf6/UWBZmfb2XF/qrJ4+FYFKpIi8aflRqbbCoFub6xURiNKrVVvqVKf0bXW5Q+zIs0pwXniQgl7+XhkW9m+JSjbPQgy4s4wA3yF1596oL9U6LGzxXZdsjV/nSVT5/8RUQzimljAGgIWgMEMopt3xnPp65lr+5vTkaTXWeS0qpkahim7dUnhdZ/G/+9b/ae/51r90KAm8+m46HZ4Hr+p5759bur37z29banVKq33z2xYMHHzg9230YnJ2fBX4wm8Vh1Pjoo49G4+kPfvhDpdTnv/wqz9PpdHzv7u04ngGzBJ8/evTyvYf3lVaPvn58cDy4dWujLEukujrBnFyUarxmNRBWz7x+Jddevsz1d66t3nZp6bsMt3slPy1lmqvPjdZ1RlKpTwgIVf2qK4re7ww3uryWBK8ujtBXZvx6Lf7yAwMiKAghUIMGBQZsZsu0jJwg8HxO6Hq7ayGjQEPXIip98eSrwHcpMc3Qz9ptJdXp6TmgztOMUzaZTKRS+0dHH//ob83+HhJ6enp+7969+TzudvuDs0F/beN8MGh11s4G0+Fw8sM/+mHotn7y4x9/9dWXlJv33n+QF6bT00+fH2qtf/CDH0TNAH/x87Oz0zy740UUkRhzcejp5cHmdSu13JZcAzW6zbKOdbrzxf9LWHwdXG/xr5/dW00XahC8UtZXx7B3DwCoIw83MGmx17Dw9VjV1xGUGqAEiTKoCUoNyNCYZtC4f/e+TMuzk7PADwVimWcmS58/Os/zjFHquvZ4NByNhr7r9TrtTqcxnybDcVyW+cuDz7kQSVp+8cWTUmpg1mA0i+OYDaZAWV7qOCkODk+63bWz89HB4Qk3cOfO7cmvz7/44re9tbV5UlDq7u5sf/31vp0VW5tbf+3bT55/YduuYHmp8MISuoiyW0JHka7OsOhb/vNl21d7ruiCVL8WLPINGLC6ebK2mENFQa/EC1/Uyls9VuPdEbS+eeWMnGupwtVGSgG1VkYBMofbvhO4tteJWljqPMnKLD8cTDhl3WaTI8ln8yxNT09PXdeN41gqaYG93ts8P5/FSbm+vmY7+uXe6cff++Tw6PSff/mrVrMVhu2yLJWB49NTKdXp2ZnneV988eiTH/zA9aLPf/vo3uYGAXP//r3nL5/OZzOg4vz8LAh7vU5nNJ3FsU6T1Pf8JEltFwDwrajtZVx0dS3+Qhx629n21i2vMU5fQdA3vngb3tF0fiGDXnrxq5Z3tsd/G2T1dxmuljBcvuQcqDEGCTqO3fBbnuNZzD47Pnv57IXvBfdv3xur8ctnzyaDYbPVMMTMxjMw1LP9PJXbt269fLn36S8//+ijD7e37wODR5/9BonVX9t59vzldJq02mtJljcaDWY5luP//Oc/l8ps7dyOsydPnrx48OABEvbpr365u7sVRdG9u3f/89//PaFWq7VhjL577+6m1MdnR4+ffpWkY86h0epQxhDJVU/e0lW9wWK/tizXdawrDnN5SY2f8/cArwaCi3H/GwEkxFyY4YkBwMuWy8bqh1HGObMt2xUORTKfzJ89eZom6b0797rNtlYqCoI8yw8PDlzL1aUWjDfCBudWGESnJ+dxXB4ejhqNTl7og/2T2TxzvcZPf/Ypamy3O6UsKaWz2ZwAPT051xqlwVLqO3fuDEejs/NBt7tmjPn0l5/KsgACP/rRj/b39vf299bW1oqimM/nlmXtbO8QAsPhuCxzCgSIoYBAzNUPb//cdJcreLvlNbj2cn554hMQWBadtLhgVQqPBGh9iBB928C0umh7WV8BvlnurpdGlsmgb8xz6V0vqmQBEKiSZrQiBEBYdpqklmUDgEHieq4vWyCBUMhHeaIk53xwmsXx4L333iOE/eS//MR1nI9+8MOvv/7667PTRhTYrWYUBXEcn58NwyDwjWi1wkbf39vbe7r3eHt7M0nj/f0Xm5uboe9sbG4c779cW1tLxqnDtMDS962jZ1+ura198mD3/Px4esIf3L134Di//vSLT77/yeZa5//yv/5f/5//+//+2Wf/9ODhh8npsdQABlzRksoQ1aCEKJ1SppjQFIhSxiig1Fqc3qsISAISCAGzaiEFtpCHrm7SEvOQqP8GCSGEv+k8uQYDf0/k9Q8G8E2GekMW5xVRBgQQgQKhlBNCWo0WIZBnRavdEkKcfz0q0jKKItd1hWDamCDw5/H84GBvNpu1203G2Oef/8a2bWN0URSMsThO9vb2giDY3Nrc2ytv3bpNCDx6/EjKwrYd27b6vbUwDBqNRlkUiGhZ1u7u7nw+V0p99tlnSZKEYbi+vk4IOTk5sRnv9Xpplj1+/Hh7Z6vR7vz5n//5v/+Pf1cUWhM6GE7ncU4pzOfx/uHhDm+7rjCgZYWbwCizLlaisgJWVjW8wWl1b5OP6wjKcvjvRyEScgU1r8dRJIRyRhkDoKgrzxdFBIuKLM5PT86DILh368Hx8fGvPv1UFWZra3Nzc8uyhJQKDe5sbwMB3/Mmk0m3033/vfdOT8/Oz89GWTqZTFzXDcPAdd3T0zOltO/7Tx4/efzo8QcffJDnuee5d+/cda3w0aNHo9Go0+kYY6ozN9rt9nw+n0wmSZIIIVqt1mAwODk5uX3v7ubm5q9/82uNagtJq91qd9qHR0fCdotCF0VRSmW0SdNU6yYSUpalEBRY9foxrd5ah29wqr+xVgvDJVzYjH83deM7qH59Q1hdAHzHy6+/M1xRepYB45xyBgBaGSmVlNootJnT76zH4/TpV8/iUZqM0q9/+zSdp1rKk6PjR1988eLZ82Q+d207cD2j1OnxCTH45W9/+48//slsMmmEYRiGSiljzNraWlkWw+HQ94OiKKRUa/11Y/AnP/kJpWx7Z5cAmUwmlFIhRJ7nz549G4/HcRxXOSQVvgohNjY2ptPp8fGx0cZz3eOj4/39/fPz8wcPHgJAWZb9fn9ne9v3A0MMo0IIGxGUNAAUAJRSaCqP0VWkuhn9Q6BXfuDKh7d+FgJZ7c9NjqH5Dnq+O9Qj7o2ZyZsXLAn+ZxQYQdBaaYWCM5e7O+s725s7xUxCwfq9Nab4Rnsz+qjheV51leM4lmUZYzjn9+7dq0oSvHjxIggCSqlU6vxsQCnt9Xqz2Vwps7W1yRiL49hxnEajNZ/NtNbr6+uTyeTFixd5nq+vrzPGvvzyy0ajsb29naZpr9cDAM/zAEBr3W63qcGXB/tlWUopS1lOJlNCwQ/Cra2t2TwpZem44cbmxrPne8dHZ721qNMNOBfGGKUlEKhK2V9J8IBFKdjVbYILT+GVK36HyDP+B0e71Z/5OytJBguzF1zR5+pcKUgQAQ0QZLawGmGzHXR8J5SZ2uisNz9pFZkEhPvbDwxVRVmcnp4kSUKBoDGOYzu2fXJy7DpOHM831tfbnXaWps1mUym11l/b2d79/LefIWKr1RqPR0mS9vtdY9TBwWGv16dADw72j46Oms1mu92eTCaPHz/+m7/5m0ajIaXc2dnp9/uWZaVpCgCc82armeRZURRaa0tYSTJnwmKW/eDBg5PT88dPXyRJ2euv9fv94/Nnh0dnjsuDyCaQA2OWEECYlIYgfWX8XXhxV17Ty8NCXzGo2uy868nJf5dBCVlZBjUaDSIA5Yx5lteJupv9TSPJ+GxMFGGKzoZT13a1NIP56WA8ODk5YYwFQaCUCoKg0WiMRyOltWVZtm2dnZ4yxrTRk8mkKArLsou8pAwA6IMH75VlNhgM9vf3jo6OPvroo5OTs+l0WiFomqbPnz9PkuTOnTu9Xk9rHQRBGIbHx8eHh4e2bSPi3mT6/kcfnp8PpJKUwflw5AorTdPNLWd9fV0Zenh0Zoz5+OOPwkNhIJcKCVBCKAUqZYnIKBWEXD1C6Wax8a+SZhYBiIS8yt5aHV7JoFWMaiV615azN4iGrPZzcRvzRtzrG7FL10iWq8MbE76+8xsj1j5y1a6U0lozxizLKoqCEKKUUoWxuSvTkhPRb/WjIPy7f/8ff/nTnyezpIiz4fnAFCqezJLpbDKZvNx7mee5EEIp5TiO1vrJkyenZ2fVHCzL2tzcJASTOAWgjUaz2WwQQrI0n0wnaZr6fjifx9Pp7G/+5l//2Z/9i0azMRgM0jSN4zhJkiRJfN93HIcQIoSYz+dlWTabzaOjI0LIZDI5PDwcjUau69i23Ww10zQdDAZB4MdxnKbZndt3tre3AWA6mSiFFCzfjzgTUlXPbYASIAhAoDrXFqqIRKLrwNRB7SKvvimXf3JT732qvdP1u/+HhOucH8svWfYVAAghjDGV7lK1UKA2dWRaRm4kS6mlfvn182Q6j5xwNhrnaY7KRF5kCQcNHoz3GmGwtrbWbDYJIWmaTqdTxxae18iyBIi5ffs259z3HC7sr5++jKLI88Ktra2iKBzLqbCQEPj+93/wZ3/2Z/3+mtZ6Pp3/5PQft7e3oyja399vtVqz2axi4gcHB2mabm5u5nmulOr1emWa/fznP//44+8xzjllP/yjP/rFrz41xjiOo00+GA6iMKSMD4aT2TwFrnpJi1qMUCYsolSJgBrxwrBGyCIJuT4XuXbdbyCO4SsZAhFJVSj90tW5ejzl6j2/q5yi131xb6SA4tUSD9fd4zWb/DV0l1KqtSaEWJaFiNqYthMKYWVJViZlNk2Iwn6nSwzOJmNdatdxKCeME4Jkrd/r9NutZktKmed5nudhGIZhKIQYDAbGmM8++5wQ7HTaQC0pled5nuc1Gq3pdJznhdEmK1IpVbvd9n2fc04pjRrNjz/++M6dO7PZzPO8zc3N6XRqWVaWZQcHB5PJpNFoTKfTwWDwox/9SObFV08eTyYTJlhZ5msbmx+8/8F/+fGPv/eJ5sJ+uX/c628cHB6/fPlSorYo0xplqblFOQNEZQx5K4zmZo7pmwYWXUZmICKBV2FTvDaUZMk7ser5cUBuUBJsdYDFY1xFxKtoegVxr3tFasOl3+igtbYsi1LKGOOcl2UJhDSdRrfb/eK3vxWaqaxsRU1SqPOzIUFsN9qtVlMwblvCsV0asLPxMEkSALBtWwje63XzPM/zYn19jTL2i3/+5/X1dd/3X+4dG8KSJDs5OVFKEUKjKGKMxWncbrcB2PHxKWPcdZ2Klk+n0+l0urW1df/+/TzPkyRRShFCzs/P8zyv5F3btvu93u3bt+fzOaGIaJ6/eL62sdHpdH76059+9PEnnuf95je/abW6Usppkmw2NmzbY1wZk0uFC3EHCKELSrhY0iVlQK5Z5BXgTZJx9TteS7SX3HvlaMDvhoIivomIb5DPqx+W3+QbsLOCyl6jtUZEzjkitlrt9249LEu53l4ry7LZbFhCuMLeWFuLZ3PBuWWJspQIVCNhjIDRQEy33c2LfD6bKllqrbudLhd8Op22mo17d+/Yts25bYiI4/jp02dpmjSbzX6/12w2+r1+s9mwHfvw8PDlyz1jVJomqLTrupzzXq/nuu7Z2dnx8fHW1tb29vbh4eFsNvN9nzGGiP1+/+HDh48ePZpNZwCEW3apDjY2NrShey9frm/devjwvaJUa2trk6fPp7N5WSo/EpowZXJjFFB2oVBcKON4ofbUL21dPOfq/JYQQl6dxvhGbD+vFV1r65Xd4J34jlg8gTco6NtTWp2CLq6tZ/EVgpZlyRgzxgDAWr9vgXV2dho4fklFK2wopVphlKTxcHA+jwtWxdCzUJr8ybODopCNRkNLuf9yb3B23uv12u32rd1dWZaj8wEHOp/OaKPRbXeTQtm2XRRFmqbVWEIIRIznsdJKSnl8fLy3vx8G/l/9y39569atamJPnz59/vz5V199NR6P//iP/5gxNplMKpo6m83cTrfRaABAmqST6XhjexeEBMS1tbVCHkkpd3bvHp+cNptN3w+TOJ1OZ0Ej4jZDQ7TWlFRLqBcZuoYQIKBXl/NrT12rBcBXm3W5Na8Q9JotXKWxHpYWt3t70jfjBMso6NVJfoO2tMqAiFIqQpBSYIwCEGN0EPhf/upzLoTv+51eixCkjOzvvXjx8sXJ6YkluOPYwuJJFsqyODoaEsLSNFVKDYfDRqPZarWSJPnnf/7n7e3tnd1dxrnrukpJYYMQFmOs0+kQAmHoG0NGw7FlC620Mqp6IiFEv7/W7/eBkDAMZ7PZV1999fTp06OjIwD6x3/8x67rKqk67c6LF89fvnyJpUQK0+m0026XsphMRtvNW4jg+mEURY+ePAFqj8aT88Gw0+1a6SzL8yyzPKYJNaQSBUlFPs0NTkF5c7tuekVNyA6vrX5Ya5BFo94etbYIhyao6s5JqiF4BJipeX5al/tirgg7cGk4fj0uE6qTltEse53eZCUEEBkhaIAQUJWqikCQU8uydWFkQdIk31jf+uk/fPXHt3+4ttYfjcYvBqPxeJymyWA42N/b01oTIK1Wq9n0VcqBCseeu45dljJPZ9sbfdvzHNu1bXF2Nnjx4qXjue1OJyuK+WyOMHL8IAwC1xN93trf35/P567jbG9vW7attU7TdDKZBL7X6/XBaxAnKBEzqQzBMPSKMrNsQqgMGg61obfTP56eH45Ou7ubo+FwrlWZF521rbOzwdHe4L3336eM99rdk+js5PSF7TjT2XFaups7t1pNV+sMABVqrQ0QB40gKCrCSYgitCBIAZ0aHFiSH7IiwCvR4UJPIlekSf6u3pklaVa1QXSrZ7Qsw6435HFEpG9q8RWO1o/0tgBaaQMIpArYRTCEIABQTieTmSs8mzm3d7fjybzb7DeaDaX1eDw6PTvL0izLs8lkShnv9vqc8SAIirJM09x1Pdd1Qt/nnIdBoJSSxgSB74e+lPrk5DQdZ8PR2HVdRIyTtAPQ63aSJJnNppyz3d0dKeXxyXG3282yLM9zxpjneZZtN1pdzsBoqYzhQiAhnudQSixL+FEYEqDC3r61MxwMZ/H82csX0/ncSLW7vSNLPZyebW7u2Lbd7/U/Yezvf/L39997uLm59mwvUVKHYRg2/aw8UUYxxhEpGrjg70AIGIIaoDa/jdRKpqvHPdXe53L7bmJmWlm0xCW4uLrksIxNL9PiyeuC6fVG+9ews5otXPwmhJDKBojYb3VkqkLPv7O1PXPnnudTlSfzTOexL8CLXOWJZHzW2+zfu3ePMVaW5Re//S1lrN1ru53tTrt9dHT069/8xvO8Dz/+niWsrMgdx240Ik3w4OAoiiJCSEOIKIrm8/lsNjs+PtZaT6fTKIp6vR4iMsYYY1rrXq/30Ucfu44znU5sziiBKGo+L590Op3bt+8FfuS6niFggO7u3CpyiYRMxlNCME2zOE6UUr7vxclsOJKK6P762tb21qeffvre+w9v0954lhwdHe3aTWU0E5xzrsqrmkm1XBQvUoFXxYGV4Tqs4Hp102t9Jlw9eV8xRRgJqZ1ALX5z8hqxvPxM3nJRroid1QdDX1OqgBAAajEhszLym7c2dp9++cgRrgN0//QlY9zlLGj6aBDRxOPo/r17URSNx2PKTCdyG43m7e0+Y1xq3W63P/74Y2NMZa6azWdlWbZaLeDMdX3O+Xw+l3lRad/b29tZlh0fHzcajXv37jWbzaIoTk5OsizjnLeazVareX4+mM2m3VaTMqvRaHBmr/U3+v316XTebPeQEgTu+7llOWWhtDbdTtez3bIs42Te6/Tm8/nOzs6nv/r0L//mr+/fv//3P/6JH3h+816cJvP9mR2Y3ppjAPJSEuQA1YaZVwYmoPXVZZaHG68CWIf036DF1xKw2uM36/1XdbH3tVRtWfRBLYaZK3NDfI2HvBF1fR2xv5RJ4IKCGlwEfCGBynGisVSlb/seE8+/ejw+HVvMevHFI8cU62trvX7fFrTU0hLW9npvo9eO4ySPZ8IS2xv9bqfrWXz/5OzJ02dpmrbb7d3dXUrpr3/z6zTP1vrrQohCyVu3bp2enmqlpJJnB4PK+bm+vt5sNjnnSqnz8/NmswkAzWZza2trY3Pz7Oz8ycvTbqdtWY4qC5Sy2WxFUTifJl/Nntx/+L4XRMDZ3sHxaDTv9YXneu12y9veOTs5OTk+Vlo63Gk0ovcevvf5559/+L1P3n/vg/2DvdFcSEONkbNZvLHVKqWSUtoWNxpeYefFepHvxECzhK9W23QDFk/qjgWvvxxI3cnZdXMjWH/aeC3e0jct868msFjDBTtaPuLrFBQJ4iv2DoQQQEKBMkY7Yctl9snowGUClZZJGkW253m2JYQQhKBliV63k2apUmWz2RiNRnE8ty0LiJlMxmfn5wSRMXZ4dGTZThzHfhgEQVBZcx3HcV231W6zOB5PpkVRHBwc9Hq9KhI5SZLKXH/37t0oivI8Pzk+1gglsXu9XhAEgBqV2tzcQsQ0TUajURJnlhOgofN5enpytrbeazQaxhgpJaXMdRzf8zrt1tngdOfW7tlkdLC/v7u7O5lOSsI5sybT0cH+Savltzq+4LSqN3FxrHnF2Wm1SHUIeoNqDvVbUrtNxiBZzZOEi2nUbHv9WfakRkjGJW6I+qdbNOKr8Ykhr6Pmqy9fRclc1Pa4Mu2373yVghpEBPOKvSMhSMFA5IWRF1nA7+3cOT04ogAf/tm/mMWTtY11AHBdVygtpSTA4zSdzeaC8+d7B2VZemEriMTtu3eZsD3Pk1IOR6MqRphboigKxngVgtTpdJrN5sHRkWVZzWaTUjqZTIQQVXCn7/uWZVVo+vz5870XL/yo+cd/8a83Njd0UURR5AgORH/11VdFURSFPD8fOV5EqCZIZ9N4Pkt9P5CyHI1Gsihd1+l02wDEsqzj46P79+59/sWXaxubH37w4RfPTnOpg7Axnpx8/vnXn3z/vSBypMoZowQqCmoIVCSntiBHvUK0Os5eLw1ybWpKkr5tqAeAWlSuV8zrXrNlpPob3pArIV5Vz0vUhUV4wVvBcgj1AvNbAigSYJQQoqSklBFtiCFAqJFSMd1utlWcDZM08Lw7u7dtYfvtpixlFEVSKg1kms6fP39ujHFsRxsdF2prcyfq9FA4xMjNzc0K59qtljRGlmo2n5WlMga5bff7gZSSMba5uem4XpZlRVF4nhcEwXQ6HY/HeZ53Op0sy+I4Pj4+Ho5GzU5vba1PAYTrWIylaAAgTZJ5HCulLMsiBEopu52ebbvT6fTW7k5RZCdHR7awKAepC9fyZ7NJ2GxV8dFJkgrhIqKweJzowG9NJ8PT06nt+FKjTRFRE2IuiGgVtFxbqAjrUGhlFDXXcuZ6Fn8ZwlP9uVCNVxyREEJQr9q7lgZfLftMFikZVRnLt03xNao9WWqpuux/8dsYiSUhhIEwQJAgAKOUlqUmCEmc5kXx8YOHrag5m0ydoJFPJoqwkpisKM5Gs+PzsWWJjuUZxKjTt8PG2Xim1ViAEoz1+v1+vz8ej5Msb0StOE3SdJbnRSeOLcseDAaIGERRFEXNZnM6ncZxPBwOK/FrMBjMZjPGWJIkJycnYRjeurWrVTkaDwPXRcGzPC3LknFeloXnBY7tGIN5lnPBd3Z2mSBS6m63r4qSgpnPx2gMZSSO4/vvvV8oQik7OHjOuCMEj4uSUU6pZdtqNEhbrdwPLGMUAU1gocQi3KD+900E1dog5lcUtNZeVR2CgZdx5mTpKTDvDrUTuJwzwKvJwJX5kNeZyOUkF18tsaO+IYAiaqO10Ra3kKBBwihlVHCgWpnzwTCeTHu9nuU4e/t7gR9++stfua7XlWZjY8MgNYTark8IabQ6QRAoJUej8Xg8sh3HhjJP0yAMfd9PkkQjEYIHvl8WklLmee7p6en5+TkhhAvLdtwkSUajUZXm0Wq1GGPj8bgKpauo7AcffNBqt+J0htokcxoFocyTNE20Vr7v7+7e4oInSXI+GE7jZHNzYzQZvnj+stNpr69vFPnc9z1CTBj6jcaDTqfNLK9Umlve8ckZuHJ6cOQHjfk89r1WlqWTSdpodZWZE8CLGmDICKGAN0CCb43FLzND1rR/Nwj6jfe9Mpn6nm/NdqkM+raNCQhanBKCeV4AYQCWNEpKnJ2PqEIoFGvBf/nxPxipHt6/BwSVLAbnp7LM4zgmqDkD27Y3N9ZardZoNDJaCU5txxFYyiBgjGVZJpVSxmRZ7geBZTlxnERRYzSahGHouq7jOIPh8PjoSErZarXa7XYV7VHx+rIs19bW7t6922g0BsNhRJngrMwlMZJolabzOJmtr23s7GwVRTaZpS/29s+H4wcPHjx/+ezJk6+brej2znZZSs/zJuNhp9MJw8anv/7Vj/7sLzY3tu4/+Oi//P0/WLJMSjWbJkoS3wuBclkSrasSRYvqx0gq10sti6+1+aweLIJ1JOpmvvgLDPhOEHRZhAzUdbgB31gRQREJBWK0QWOEZRtFkjRjBqTBNC8tAo+fPz0/On5w57Zh0GsGWmtCIJ2NsiRpNBpHeXL73q1+O1IyH58fd5rNtXZjNBpawgn7/fPz8+lkQgGAQFkWwrLcyBPcEoJXmUOEkNF4VJSyik6qWrTWnucZY+bzeRiGvV4vDMPxeCxlmRdz123N00zr3LUsyxZh4LXaoe1YR8fHg+H49PT8+PRsd3dbcCtN06+fPH1w9zaiCSNf69JzbUrJF1980V3bChtdL4B2qz083G82m+NRbFlunmvLdpXSaVI4frVK+iLoDvFGIaE3CNyos/hcUZK+KersCoYvDbd686qbxIOaumeGmtEJu9LzmiwigHrbbwWvhzIRgqiVJoQKIRzbTpVEAq1ur9tam5yfh344m0yQAVJotFvFbG4MI4RkmWp0G5ZltwL77vZ6J3TPzuY6mxPfpqA5lloJREyShBDi+b5DCCHUsm3GeFGWFe8+Pj5O4ri7tnbrzt0oDLXWcRxXcaiImKbp1tZWp9Npt9uEkDiOmeCWJTzPzhKQZU6NEoJub2+ura1pI1++fD6aTrNcTaeT4+PjjY2tbrc/Ho8nk8l8Prcte3t7K07inhe8/8EHL1++eO/9hlJqZ2f30ydfZRqZsAShs2mCFKjAOMutAMxFJR9cHNsOqxvqb1L29Vol6fprXtdIbqQlrd5xOeM2ryvjV0Ovr1jsX/X/5oBlXMTsXUoNyBgQwrQmWqPU2g/DO3fvjc9HxKBvO7ZjWZx119fa3a4duHmeHxweYpG1mmuT8Xiz21zvNHQep9NB6DBminQ6M0VO7GA4GiLixsY6IQSBogFDTJLks8k0bJIwDF88fy6ldF3Xtu04SUajUVkUUSOywS6KohJGK6vn8+fP4/m8v7G+1u+12i1KcDYZTYdDo0yjEUVReHJytr//stToB03G+Xgy7nQ3Hjx4cHJycHZ6BqCCMCry1PN7eZ699/DhV0+eOa67t7fnuqHtOGen55yLPJOUCs5szqtAWI4XCLqo4o8XRyO8vVM1C30Dnfo6Z009gl4d8pUuXyssLIHVu9afSlcdU1hFSi0moK7YFirdiVz1WF1RnJZl4+GV9JeLnpQBcDSEIsFCCYk76x1Xk0ypsBFalDmR37bFxnovz2bDyTRNs0SpqNNlrq+m81yX41k6HAy/+vJZGITG6Hie+66bazqLUwBeKEBE27GUUePp/PDgyBgT9XqWS5rd7qbn+a5/dniU5TllzPM8MIQSCHzfareFEISQ8/PzeRJbjtPv9TpBGFg2CQKLkJdPnuVZ7rg+pawspVJqNp23251uKww9azg+FQ7zQ49ZfGN9E4g6Px8UuQpDX+vi7p3bu9trR0cHw8FJt93YPz6yONMyZYyhLgVzBBdaIeWuNkApAIAhmgDBJYlvNbB6obE6K9UlfDOCvmpcrh2/OeKNiG193NOFBfTCpH7RiFf/gBpd6FL1qWdGdYODNoRowpBSZRxD1oIGzuY0yZSUzU7T40L4rinyo/OTApwkSYSwRdQaZ9lgnk8mM/74WRqnZ5MYuDdLJ8ksuXe3bbuBi5aU8uR8bFt21w2YEKPJwdHpWbvdpsJiSJqdjjZmHs9BakDsdHvbW1tIiG1bpVLzOJ4kk8PDwzzPN7a3ms1ms9mwDdFJBtKAIlmcz+PY4jZB5rhes9EcnA+Jkbd2NpqNxuk8G43Hw9H5Wr8TRI3paBiG7YODk3/5L+8lmZwOR74r7t/b/bv/+HcQRHdvb58cDYNAxHFOkOQ50pj5gQecoDGEXkQzLVvDeh69uh5/La39//e8eIMGtaEIVVY1Z5TbNgGWZJnNhe0GwrKQVKee8HbUIQryPD/YP8qT9PjocGdrC9FQRm7d2m41myfHx4RJwnUjCsNGlKbp8fFxnmdKSsdxALGKqy/SLCsLrXWSpi4Xa92+QXQ8z/N913XLspQ6ybLsq0dfZVm2u7trWVYVbmfQ5FmhtB4MB0rroigajYawrFar1Ww2fd9HQzY2Ni3Lmms4OTnRSiPibDqdTSfNVgOgUTn9T09Pj46Oi6JgnJ8Nh52Nbd8v4lgalRmGaExZSIMOVKccLTzyFG5QPOzbAl5re1016G8JQL2sUg965fvS16dxzXWranOEaILSKEYYKG0U5YwDpYVUZ2eD+3fvbWzsEMTZbFyWpediHqvx+dxx7Hk8n04neVpYlu26LqW02Qw9z0nLuReKsOlQRsIgcl23iqObTafD4dC27Qdr923Hmc1mZV5UXs1eoxU63mQ6UVpXdUGklGVZTibjLMsopc1mkwKUZam1lgqllEjIeDyez+dZlglLOLbNBe/1umdnnUazWRQFpZQCWJbVards206zbDKdttrNXq9XFEXlRz06PjobjKqElv39vW57/enXe5zzLMsbzXYQMSml5QClgAsaB4RAfWmQWvjd4vDfhD88Bb1G339TYPxOAAlFgmgIAiUGIc3y6WRmu8Gduw9v33lwdHgwGO69fPGcIDb83tHe0Z27d0I3FJQ3gkArc3Z2qo2iAkuTO77tdpvSqDyJbdvjlHqel6bpZDwejceNVtMrvaIsEbERRUorYMwYI2XpeV6cpojoei5kcDY4n0wm3W630WisrfWlMUopAMjSFCiVSs1ms9lsSikryzJJEm4J3w/a7fbGxvre/n6/36eMtdttThERkzhO0jTPizzPfd/3fD8Mw7IopJSD4RApZ8CUVIJz7nhAaVkWZcG5TYAIAIrE6EohoEDqyigs0YduIIRe890fHkH/wAAAlBJDCTOUUKX12WB4fnjeCiPG7cPjs8ePn798efj8xWGv1xFmbnMe+X5/vW9ZLMvTWTzd358Dp0CZVMbzPGFbw9HcE4GUJQAJPAfbDWVK33c5hfl8almWF/h5UaRJYjv2rIyJ5+/eusWnDInO83T/YP/07KzX7TRaTdu2GaOlKqUkRqs8yyjAaDKZTqeEkE6nU5ZlKUvKWRD4ju1QoOPxmDHa2tjxfc/IcjQaVRUopJRRFAkh5sksz3PGOACgMYPheW9z9+z0tNftHR6dA9AiLwwmnh8CAKGA1Rk1i5MvvnW43n/KawlYPYu/0ey+Pbr3iqfj639edwmuqM9RICA40YiaUmCqUMPh8MWLl0Vn/fGjx2jIeDTmlHtu0O9tHj/96sMP3r97b7fb607nk7Pz4/l85ngeF9y2/VKWuURplCE2AJtPZ8qoKIo67U6Rl77nI+J0OuWcu7aTpRkhpCxLmRWcUCml7/vzON7b29vb2/N8f3tnmwuR53lZlq7nKyWVVmVRFEXx4sWL6XTqut7W1pYxpixKy7Ytyy7KYjA89wNfSQWU5nmRp/PZbOY4doWgVZkTY8xkMgnDME3TMAz5PDk6PMgzs7lxixhNGKAxlFJtDEVSGTQRka5YXfsSbpYNuRT+8BT0Gmn1Ghb/7kWdFvchSAwawigjmlTBGWmWGqPn8zjPSgbE83zGeJEXjoMfvH+bW2wwPNzbP3jxcs/1A0Kp0TCfpWlREgCpdeiH82KeJslsNuv1+2EYcs5QmVk8l0oqWZZlYQk+n5XKaM92LFsMBoOgESKa+XwWBH6v3wcgeZ5nWRpFURQGUklElEqNp9MkSbIsu3XrTrfbrSqLCNuilBptkiTt9/plWSKa6XQq8zRNU9uyXNdNkqQoCsd12+22UmowHDpeYBAbYTTaP8pznE6maxsb52cDypjgYLQ2xjAGjDFCjDb6tdjH19ewBuoIY71ffYlHpfqP1x2xUI/SNzCCrtxzGbxRTar6wK5Umr3soLW5sJViVY0SkAAQUxMkA/D2w2pEIw0YIoSjpO60OzqR6/0+51xKlcRz33U5o81mA1F310PLI2k6PT49Ho0HlKIQHJhlDEwniVQEGJ9MZjNbdhpiNpucnZ0VZW7bNjAmy5IArG+sU0qRmE63XZQ559y1bIvxOIkLVdi2FYaB7/uG4DyeVzpTs9kwqB3X1lpZllUWBaXUsqxOp8M5BwDGOCJSCr7vF0oKIRjno9E4zzKjZRXVf+/OnWdPvx6NRt1uNwyjW7duPX32zHVdAJplh71e7/RkKMui39s8OzkTjBsj0RCtNOVEcMYB47REMLUxwbVQm5er68yorA6xcOFb57XY9C2w+NWhbrBldva32y5w7vL4ByR0qQ5fezmhhDIAAZxy6DRbQddziT0bzVpRaFMAQilBmzPOYX1rbRqPz89G54PhZDrlwgqCgDFbGyaETNNCKYz8SGn0HHc0PG9GjSq1KE3Tfr9PCDiWnZeF67pRGLEdNhgMJpOJLSzGGCFECDsIQkrpeDqN5/O8KIPAN8ZkWZ7nORASCqG1nkwmW9tbxhjGGEHChajKTLTarcls6jgOQXz0Yt8gpmnKOW82m/fv3RuPhl9++eVf/MVfSCkfPnzout7TFy+zPK8eMQxDgnw2nUZRlOVTQSghwDmnoJUsKQPOOKUAKzPuWmypxcV6IXRhS3/znKTrhqzNj7tJlGj9WKu2rXTnax4HlviXUGtEZkAZqW0umlFEt9C37Pv37ghG49l8cH7eavqdTivNj17uHSVpRhh1fd/3o3a7Dci5sJWBwWAUx1mr2aCUM5pFge/Yju25jNPd3e2tre00S4uyLAd5EPioVZlnBE0UhZwxuDAxGgDM8zRN51JJBON6DhIzn0/TPM3ipOn64/G40Wg8fPAQETqdjkHUhlBKy1J1Oh2pleM4VRmIs/OzyXjSbjXDMERC7t2794//+I+np6fNtkYCURR5npemGed8Mk891z86GpqQSqUJEqAAAIwxCqiUYYxzzlZ1fnzTRrwBy/CzGuwmMmitc2CJNPCO1HZ1Cvo2agLAkvp6+DbmAwAHTgFQGSK1kkVZ5K0o7PpRpxUk80SVKaOy1YyA4uOnhwAghN1ut23XJoSXpfQ8C1EDwdC3Ou3Atb3ZdB4ncbvddh1HWBZMSb/fK8vCskSSJqcnJwTRDwNCSOD7tmXF83lZ5sJ2lCrjWJZliYiV2Kq1SpJYIyqtlFanp6dSyu998kkURVJqQoiUUinjuI4x2vM813Uty6qOUlBKTUdDAPB9L0mSMAx6vd7e3p4fNmfzeafbWV9fA8oKwpENGDiCz8pS5nlhO+DaLiUlagP8ovgApwxvcKxp7elc9VixFEEJEEI4W/mtuD5X/bWeWDMqQP0beAND/RUt/o2LLuOprw+sfnsoAGpZFiOMlAZsTqSejcedrV2HCVVkJ0d7aRI3oyD0nZ/+7J8ODqftVtuyiO+DUjjLZ7JUa2s9IYRr254H7VaARudZbpXcGJ2kaUCpLMsyLylnRVFMp9Msz/b29izHaTabrVarqkxmDNqWJZUqi0KjqbLjG82GEEIIgRS01gTx7HwkhGg2m2mWEoQ0TYuyzLIiajYQUSttWRZllHO+t7/fajbX1tYG52cAtNVq5Vm6tbV1fn6+t/dya3snz4pmszWdzoUQXPDpaBqF4Wg0t22bMRMEQa5GZVkKRzDGAACAEjRsZcpT7y2va6zVkr8hmum/LXiLiF7EmFzT8xUgEo2cU02M57rG6NlsLnZvy7IwiIISi2EazwDVaHCaFV7U2GSM2HbEaJEkRV6oPM+1KtFkWstWw8qzmJLYGBrHcVWLYTabFWXZ7nZarRYF6rlenud5mhxnGQFiwqiq4AwAeV5kWVrIcj6fp1m6s7vTbDYty5JazeMYgORZHgRBkeeUcwqMUgoAk+lkF24RQtIs5ZxXWbJJElMKlmVZlrW3t/f+w3uM+tXdfvvlo/WNzels5oeNoiyOjo7Oh+PpJPPcJhrDKWccBeelgjzPw8haIOgFb1p1U27Q8zrgN3JgvgssU11Wd4qSt2qcL3I4LwJDFx/ejq6/HPrNKaBBTYzWRhsDlGV5mSRZnJXJZOpagtleGSeHBy973Xavvx4b02xFnNIgcCl4qkw9z/I8bzw6PzocaV3YnGZZmqUx8Haj0TBGP3v+PC+Kw8ODwWj48ccfp2k6Hk9s27YsZzAamcPjmT8FgmEYpVk2mYyMMXGSxknc7XU9zwMCWhtzUdGDKoNB1MxL1fB8QkCjKcoiTmIpSyCoZGkIECCGi/W1tZPjE1tQTukXn3/2wcO7t3ZvhYHfajZPzwZnZ6ee508mE8dx4zhO0oIJXpQ5t7jSBSCUsnBs22BKkFhcIFFADADS78AZ/zbNuPoHr09KWhmWBC5BTU2yZV1ZXSxMbTkJqt4glkukDgRklWzzzcoTJcCpRkO4SDU5Hk8E2p8+PXj2+OntnZ1OMyoVj7buCd/dWb/V6Z9l2ZnleUTmjufZwmxvrjebzSLLz06Ho1Gs1L7WOsuyO3eju/duMUH3Dva6Uccg4YKfDweT8UwrAy5PMqkU5llJjNlY7/T73fF0WsrC932ltEGzs3O7LJSSCaUcOMuzUirgfo/7rVgSXqJlw3g6nI7GeTEbjU4c2zWmPD8dMi6s/oYnqCmTOCnzLBmcHH791Rf3drctRqJG9MH7DwejSV4Ux6fn7XYbLM9QKQTXxuRpwpHI0uSl2F1bKwpBNDq2SLNYcMMYB2UvEe7f2qzV1ZDFzlyNJYfL47hXvcsqI7zWsnoGYG0c17J4lTccSe8Y1kIIIUZrisQRDhpiMy6o0GWZzmfz6YRqyQjeurUZ+q5tW1MlCZkCUESitfE8v9FoaK1brZaUUmtNKRhD0jShFM7OzvI8X1tbK6Wczuae52dZBhRarZY0em/vJWNsa2s7DD1EGI/HSZ6FYShLyRjb3d21bWs2mwOAbXNCCCIJw+C997payzzPYkaskhVlWR0AkaaZVpjnxWQ6U0qtr621ms1Wu318eOC6/tbWFucMCUnTbBYftHv9rJCj8dTz3OForJU2xpRlaVsWp1SZ0hFclVJrJQQHUFprAkCBL+Pbta2rh4q8io4HIIiEUjSvXP78HVk33ORokiUTrI89XdJzFQQlVxJkv8EzyirjnkajlZIqCv3QjdJZ3u10bMHyLFWyODkmIwq9fhe13trams1mZ2dnVZX4oiiqIrdVmfAqA3N9fR0o/eyzzxBxY2MjiqLqhBelVBiGnuuNZ9Oqdoht20Hgo5FxHCs0nudVfZrNZpokUsowDIPAL5QCACGEVBgnsee70+kEUbue1WhESTJP0sRoVEopI8/OzktZ9tb6k9n0cH8vK4q1Xq/b7c3nc63Ur37z+Y/+9M8AACilSJTSRmtjlFYq8FwpmMy0YFZVD9r3hUGlpaQInDHUZJGZ9BrU2uRvgBSvp28gIlzJOn93BF0Sr7ea5ICXv968ba2R4upY14c6vY2X9T2N0YCKc5egQWX8yFWFPNzf6zTbupTj4Xm30whcp8iz0+MjRhjn3LbtMAzPzs7m83mz2bRtezKZPH/+PE3TW7duPXjwQCl1cnYqpawOP2Cc93o9IezheFiWpe/5QRB0Op2NjY1erxsGznw2phQdYUkpLcuKwlBKKZUUlhWGIefWNI6zLGOMTybZPJ4gRkoWWssNq99ut9I0NYiEoOM43U778OBIlrLlB5SyW7fvfPH5Z4nnVAsaNprT6eSXn366trFtOY4F/ODwOEvTi5w4QE6JYNSyBEGtdSmYpzRoYygABWaIqS29Xa+w39DQuGwj3xVBFyrz64A3Cai+AZumq1LQlREUEQGREmM0Eo2OEJQywXmRpwxheDbst1vddqssnBfPn6MBznm/3282m0+ePFFKPXz4UGtd0dF+v9/tdqu4uCIvCCGO4wAAZ8z1A0SSHWanp2dpL/XDsDp6ixBCKXMch1JGGB2Px7Zla8TpcEgZ4xyLokjTvDpuJghCAFKWcjQacQaOY1XFGTc215J5wihzHKfZbD169JgQYlk2UBaGUafbTbN8Oos1AjV4/+H7h8enZVkORpNuf30ymSpZMoLC4mgUBfQ9x3E4BYWqRHQoAFJaaacUaG29kHqsXT1rsjpSZFHqdZEqdmlmWrHM11JYpp2/o+u+1lC/MotfeXwKwAFQKSOBUcYobKxtRF54cngyHY3i+Qy1UkUJSDzP8b0G5zzLMs/zoigqy3IwGARBcPv27Xv37kVRlGXZ0dHR1taWQSOEcBwHEbUxhKAxmOfZi5cvy1L2N9YppdXpYZRCs9mklBWyVGFYluX52VmSpZbtIJKiKABYkmdKqbIshcVc18rzwg+DdqcRRgHjtNvoWsIqsoJS6Ha7juM4rqWUardbhwdJb219OhrkeT5PEjKf37lzx3Z9oGz6Yg+YMEBsxy7i3PMcVRaE6CD0HYtTAGOUlrIyORmFgJQQrEfQ+sZVAS7SGIFc4OUFml6XNLf0Vm831fsPl7rD34KlKZ01XXF1CnqZK3o9BQVErVQJIGzLI5rJUhJjtja3Qzf8T//+P0zGWRT6juMYlNubW7YTPHv2bDAY3L1713EcKeX5+fnm5ubGxgYhRAhxdHT061//ej6fu77X7/dd151MJnv7+81W+/btO8aYeK5lV1d1GYIgaLc7rsNcRxACyugwDM/Pz4fDIaHAGC9lpT5CVpZJkiASy/Zt2+GCtdqtTrfdbIaO43ieS9BMlFbKWJawbWHb9nQyCYKwv7aeJonteHlRUABJABF939cEev31OMspY4IzRokluCwzTtG1GedIKaBRxkhBKJDKDXszTrs6BQUkr8psLc7JIItGDrAqjtbKwktHXVVIBsCaCdTWZGTMutrl2ttefvsagr49KwqccUspRCRlVrrrLgE6HI2O9vZns9nmZmN7e5cQkFK5jkspnc/ne3t7Qog4jpVSVaVZ27Zns1me54SQ6ixB27Z7vV51dsf+/l6WF5ubm3t7534goiiYTCatVsfzvOPjI87w7p1dy7ItyyqVrI5OVEa3Wm3PtzzPy/MCKR2Px0WRc2ExxsIgtB270+n4vmNxVp3QygWnDNM0iaJoPp+F6zsv9/ZQSdfzTk6Ow8D3wkhJyYQ1GB7s3rkbRXFWlISQMi9CzzWy7LWblBHX4VKmlAJFIyhwzossZhyMNIIzovHqMl58MK8ar3xVu9kXrVctSpcSwms1sy7rg95EB79Jz1UlB4T6d62Wxa8+GSRgLqnswoZfQ9cpY5xbjFHbclWWTabzDx5+/+mjJ+eD0XQ67XT6vX4ftfz0V5++994DzgSltN/vt1qtIAgcx/F9P8/zR48eJUnSaDTSNLVt23GcNEn8INRaJ0k2HMZ+EB4cHIzmWZaWjNH5PHHdfD6fc84dmw8Gg1arzSzhcp4kSZKm3/vke1HUAMoQUQgbKW23W34QWpYrZYloCFSl51CIqtRZOZ1O5vMkiZPRaDSdTP6kt8UYm87neV4wxpRSs+nEdtz5bG60Ho/GeV56QaA1KqUY51zwMPRsmwkL4nkBoBkQAIQq1RspIQgGFmXuavbgDY52fa4bvr2frzdeGs35DTLYb4DKSwpJLrnvtz8BuEyqX3jnoV4aQWM0AONWXiqJRBugjI+nc8rEy+OR44UIfDQZPv76qdFmfX2t3W57ntftdqtz4iqO/PXXX+d5fvv27SzLCCFxHFPOgjAqimI6nc3nKKWczeZAJCEopUqSpN9fJ4QgGkqhKhUWNhta65OTkzu3b9+9ezdJMwA6nU6VUojouq4lBKXUEtzzXddzCDFSSnQsKZXt2EKI8Wg0OB+kaZJn+dHJKUGT5blB9MOICevg8Li/vj6dzkaTqQaujMlLKSzbdR1EwgEd2/J9i4COiaEUGadoTHX8SRVnBzdRzb8hU2MFDIVFuN2q4uxNgq1WTxBYRkHrJrCyPgcECZiLCS9CRWuT5U3FSSgpSlVqTPLil5/+6ux8fLh/WJSaCfvFy/3zs+Od3dvArcePH0dRZFnW9773vZ2dnfl8vr29XR295ThOEASWZVV5vb/+7PP9/cPNzY2iyDY3/TCMKKVrHV81Xc/z/NyvyHCSJForrUmaZty2hqNRnue7t29VZ4QikizLpNSMsTCMhLDSrHBcN4xCW9hlKQlBDDwumNZACDLOlNadTvvw4OjZs6dbW1tlWRqtwzAMg2AwHCltSqmGo3FWqqjZnk4nfhD0e73pZEqoZhQooEENaASjglNKDBpNESkSbQDhTTJ5DQV9dwStut/IzHSjnqvKoPX1Iev73oCCruYUJZRRggKRWpYji3Jvb//5k712o/vo8ZM7t3cePHi4f3hcZMna2ubLF8+LLNvZ2amKLlUHJVaHw5ZlWZVC9n0/iqIkiV++HFJ6GAS+1urhw7tB2FBSt1pNx/E9zxeOXZUKs20bDU2SGQA9OTo6PD5utVpFlgMAF1ZF343WQdiwbZtzUZRD27YYZWVZUGoos41RRSGVUogmDAMKWRAEWZKO5/M8L5RSaZJwzjzPqyJXWu2OlOXe3v42oUoq2/H8ICyL3GjJKQABRtFzbctmQBQQRGMQSZU7B+bNwizXIOi3BTehoDeTVlftXHuS2JIJrE5BSZX2+hZ2vkVBjcmLgjOCEotcz+K00+gbBMcLwkZTKX1+PuqvtS3H7fTWHv7JD2zbrqyPv/rVr4qiePjwYXVGR7PZVEpxzsMwHI1GtoVcWEJwKWWv1w/C6OjwiFLW6/eNNv2NdcZEhXMEJZoyTbPD42NCSBRFg8FgY2vTtqlBAKBKF7Zt27ZdSYoAWJY5BXQcYYyJ49gYU4WBtlqtNM0sy+qv9XVs0jSjXKRpxhkty9LzvCRJqnPbZ/PZ0fFJEDWY0Vkaa6UoIKWUUkKBer5tC1YWVbacgQUxQ8RKT/49IOjlln1H4XY3UJJu8kw3tHSs9kYJy3Itf5zNhWPfvffwz3/057/42S89x+fCarTazVbDYnB+dhKG4ebmpmVZSqlf/vKXL168WFtbo5Rubm46juM4TnXecJqmJ8fHeV42XY9SRgjxfT8IgvFkWsiCAo3TuLe+VpaKMWYQVana7fZ08kJwfvfevTzPp/N5leSpDLquU0rt2A4XHCgzlWPSGGFxx3EMqtls1my2tFJSqjAMoyhyXKfI80bDHk+mnucimjwv5vPYcexms1kdKC+EGE0mTFhcWNPJJIvnjmsboxEJAnIuuICyvLD7vL7+q8pj76gkXQInJKi5UW1gKTEr12ZiWGe9qgltvolFt7Y80JIyUktOm3uzMxBSUpLoAlp+K4/zlhccPn6yHgRfGtm0qS9MUaQHxwcA2Ol2OOVGmfFonCZJVLnJfYcCLfK0GYVFHj9+9Oj+/ftJOmu6YAMYqdNEpoUJ7agU3qOne1v3P9q49+B8PPRda56MtJIN35N5SoF8/MEHSMBo0mxb3PIkUst1J5neuvNwPJ2urXXTJCaGgGFaUmq7rtO2LHF4eNBseXlZtnvbiGRtk8/jOXUcPs2LycCkduR5o/F0Mpk3mmw8SVudXn48ynIV+CFqMhtPkyw/H47u3btt2y43VZV+ggpd8C6O92CgDSHADQBezVtcmCrppax/JenBXBtGuTgAowpceuWLv/zwuwUsw8rk7lsXRb4rQCQGSdSKOFguL37645/96ff/KJ0lAObOndtbm+sHhy8219cGg/PdnZ35LKYUhsNBlYw2n89d5+54PEZC8iI/Ojr+6vGTqNmwHfuDjz50HW+WJPv7Z0HrKbPcLMk63R6iHgzOjZacaa2oY3EghHK+vrEeRVGWF0laWJbleQ4SkuU5GpOlabfbLcvSsoQQAihQenEcMiHIOU/TrNGIkiSxLKG0NsbMZrOXL48AqG1bBMCy3aKUaZratuM4ztraeqGU7Tic8ySOZVlyS3ieZwkLVU6QCCGAoJLmBkU+vzO4gQx6EzX+JjJorcWzPhev3pW1YmNtO6McjSgkUkEYY/v7p/+nf7f51ejzDz/88F/95b+cTge721uc03t3bz3+6ovRyWRtrT+bzfr9fqPRyPO8LBUANajzskhzhcgJIUJYvX7H4nZ+egaAlNLZbJpnye3dHTRmNpuGvqeVVqYUzNXGWJbdagdAWSFlKctG4DmOYzvOwcERADBGjVaIJElT13UMGs4557w6QseyxGQy6fW60+kUKFFKxnGcpulkMm13Oo7jMMa9IDw5PQVK5/PY84Nmu6mMGU+ntm1LKSljnHHLshjnpaaMMEoposRXG35xaGdVov5SCr3s8OpsALzKxK8rqvgaN8fXDPXkDQpa60hd2XReD8swud6B+a4y6OqNNe2Ucca9JM2jXms4Om23gmazeXR08D/9j/+DI9jUqE6rpWQWNdr/9JP/gpJZlhUEwcbGhmVZtm3v7e9/+umnrufs7u7meep6LlLu+I5lO9rg4Py00XL7/c7JyREa1et0iiLzHKsVhUpJo0tELKXk3EICeZYlaVqUBSIWRWEIPTw89KMoCLzzwSAIG/P5vB24UikhBOfcmKqwAptOJ0VRcM7LslBKDQYDxlgQBkAIY8xybM55q9XKinIynRRSbW5vRY1GnGZAwQt823HSNNFaK6nQADCQShHUCBVSVv+qcJEL0elKHltlY174hyrkrVyV1xK+qyz+1eWXGEteFZznSGtCS+sJ2A2K78GbyRmL9rebah2opu70plp59R0pKBLgwpWqsB3v5Pi80+0eHBycnQ96vd5sOtlY709GA0bh5YtnWRKv9XbX19dnsxll7Pz8fHtn59nzZ0++/rrdaftRhADtbitJM9txcik91//q8dH3f/iw2+0cHh9tbawx0Ayw1Wo2m1Gep0YJo1SWFVXaS5rnSZoiYp7n4/FoFiej0aDVaSslGaVpMndsro2hlHLOGaOIWJm6qgJ6jmslaUkIybKs1+s2m83RaMyEoIzFSUy5SNPUsu3jk2M/DIHxKIqmszkS1EYDBaV0qTQnSCkri4Kg4vwiQw4vDvh7ZUU2i5yvSgqF6nyF10Mnv8G6feFwR0Je5fHUI+jqxsXVvQi4pBrzkmTi2lvUvX+rO0VXjmtBA0ZTAmIymWVZFkXRF7/9vNWInnz1xVqnkWfN0+ODrc21Ms0cIaoanGVZaqWQkNF4fHR83Gi3Xc8nlHpB0Ox2nr/Yy/N0d31jc2PT8uh777+XpGkU+ptbW1JJzqgtGKXEEQIZk0DzIi9kqRFLKbMs44IZY4oyPz09dVzHEiyezRCN1tq2LClLy7IYAwCCiFV0fZqmWZ4AxbIsheCNRmjblu/7w/EkCIM4SedxjITEaRJG0en5YJ7ESplev1+URVmWWhvOORcCKEXUAJRSioaSBeIRrCgTRbjk5Rc7UX1R2ZwRXsPRG8iDl3t95eCAy8+81gy5jIKuOmSdDLqsbsISqBtr5cPK698FrJkVIaAkUsKTJNvc2iZF8c//+OOPHtwrinQ8Vnt7T8ssPT872tra/NM//VMCrjFmPJkAQKPROD0/i5OkKGXUakTNluuHwra+ePRUKhSuU2j5P/zbv97YWPu7//SfWq3W+lpnOpkkaaqKvGSUcwEAXHCL2JQzrbVUKs0yx3Ftx2Zc+K7baLU4Z2mWTaaTra2t6XjGGbVtsYiuQGOwLItSFoiYJLHW0nGsfr+fZZkfBH7gh2E4HI2llLM4FpajjfYDvyhLoGw8GQMAAeCcac09z7UsS5XKEMK5bTQ1RAMhSBgQQAQEAIQFYbsIbjBQqeAXFHSBmkv373L9X2Pxi/SQegqqa3e9PtpNvz3u0mT5GkyoxyXUqx69c7Mgw8VgV231NS8egJHKc93ZZPS99z/c3Vj7z//x71vt5mg03PzgvWfPnjiC379/q/Jhho3w00//+fPffkEp/+T73z8fDZU2G1ubTFgGiSHMsr04Tb0gWN/YfPzVl3fv3Xv+8pnvOQ/u342icDIaAGrOwBKMMrAtN8uyNMvKPPd87/z8vNPpWI5NCKUUOr1W1GjNpjNCSJ4l89nEGCMcz/eDKoY4jue2bedFZlni/PzM81zG2Gg0UkrmeU6YHwQBoRDHcZYX2hiLgud5jucag7PZTEoVRNH6+npa5FwwbtnAqGXZqEujDWOcEkoIQaCGVKVBq9W6xCECSBCJuWJmuvyKEMIWaHfVpaeUurJBF2DgWgRdecsr9/1bdHEph10ZQ/+gQAE8x5mORjZnd27tvPz68V/+2fe2tzYF4Gg0mM/nJPB6a5tFmSEipWwwHM7juR+ESitE/PiT70XN9q07t0/PBsyYx0+fG6BrGxtfP3+xf3w0T2bb29s//OH3N9bX57OZxSk4VhR4li3yQmotbdvmeT5Lkul8Doxaju04jlLGGO27LiUIFLXWaTKXRYNSZtu2ZfFKSbJtWwjmuq4xGoDkeV45rjjnlmU5fqSMmc1mcRJPZ3NtUBl0vIBzYRA556WSeZ6PxuM0TSu/KxpikFCkBCgSBEIRyEWMMgISihRpxfYJIQuejlWwA75ZtgUXJ14gXlKHJZLb6yz+Imb5SkT96kizernw7wh+N1/rtU44TRji1vqGYzFB4De/+uVf/9W/shjc3t786ovPCSJj1PWD47PzZrNZlmUSJ0mSrq+tN5rNtMi9oLm+vTmezB59/fXW9k4uZXd9o7++8R/+P//Jtct7Dx/+iz/5406rWWQpQRX4TllQBqhLCUYTg5QDAZBG52W+ubEZBAEAOA6TUgKA1poDTdNYFQWgFowzBhQoUCBAhMUJQc/zOGeWZU0mY9u2EUkVxl8q5ThOkiSO605ms1LKdDSImm3btg1iqbQyRmozHI3iJGm1WpZtG62M1gCEMnYRkIvEABBkBAgSShCRaLxiD8fXVKUFi0dCqhOS4SKobCEWXMHuK4CEkkWc8itLE1nEg5rVC+rh6p6kmvrPy+jnDRD8BtkpSxD0LRaPRpuyuPfBe8l09OSrLyyAe3dvj85Omq1mb63PBA+C6PD47J9+9sutnZ3dtZbnu0EYNNvtLM8MIgFUUk9nszTLX+4fRM3Wj/7sz/7uP/1Dks0/+d5Hf/O3f3Nnd+erLz6jaNqtCIyaTKeqLKXWQjgUqCqVMibOsyCMmq0mpTTLsipHlBAipUTU0+k4jALHtSxhVVzSEE0ZoUCLouCcNhoNy7KKokAkQnBtZJLOwlbkedE8joMgoIOBxiJO0qIsuLBRayGE67o2oXmeGTSO4zAhSlkSBAJA6UUADxIChCEFchEItsAeeGXyRHJxFtvliledKBq8LG1PCKnUunrJlF44oa54lH7H0jd1nqRVzajfCop+6wDGhJ5LjSqS5Mvf/qbV8Is0JQTzPONCIAE3CP/hn3726MkLy4vuba89ePCgt9bf2bn99bPng+GQCpsADMaTVrcznaaPv346mSf/8PMvdrvWX/7VX969e6fI0iDwKeo8jgF1MwyKUsVpRikYYyhjtm0XudxYCxEo5Rw4K2RJyYWvSKmyKPLd3d0ojLjglAmNqsyVEJxZrCwL27ajKEI0lFJjFCIURT4eT1q9267rGm0qsRENIiFZlrvAClkSQr0wcB0/zZLRZGw5dlWPkzJArDg2UFJ5PYFc1NoCJAivKNyrnVvQ0YuD5StYRD5dCIEX9dzq2LWBVxSULPD0igz6+z9Z5HeHb5nFIyEUaDMIsCjKNB2enoBq/uNPfvzg/t3xeCyl8sNGVsqX+0e2H9y58yAIAspoq92Kmp3iq0dPn704OR86foiEOI736a8+3zscfPbFM87YX/3VX/3N3/6t79iPjg9sy5Z5zCjljFnCsm00hiiDxhjGBSFECO64LmPcsixeHfNWSsYpUFKW0ve8Rhi4ji0sSxNWluVCamRZllW55FmWhWGQZok2uiiwLMuT09NWKbMsQ4CqhJNlWUmaIAFltGU5juM0Gg3KaVW/SWuNiFwIo0oClAAuHEV0UamOVo7hVzLope3zCtZeeuAvD5OFSk+6QLsaMBfWelgQztfOfr9RPOhVDovXNi6bzDvCty+DMsaLOJaeOzg/tQS3GP3FL37uudZXX34xGI3uP3xfI51MZ7YbcNs2qCljnPOnT5/O5lMAdGw7zbNGI/rZL3794uDcc0VWyD/9kx/8H/7n/6OwrFLJZrM5PDlK4zjyPS0LoCDzXCnJLVcZUKUcDAaGEKDUsu28yCnQKAxQ6UIWAKCUbDUbQAkQZIwphXmez+fzKgU5jpMqgz7P8l6vU5SZMaikrLxK8/l8Mp0kWTaZTouitBwvyzKglTPWEUJYtoUxEgDOudKKEMI5L2VJkFRFFMglz8RLzwtc2jvJFdvnq5WuZeKvHahZt1eXCF2ds3qlL0eqL+9S/UdIvZmpild9PcISEfXrocEXLlk0b8qLy4z0GlatkoJwnXv39Z6XUfSvfUBtAACAGqM5ZYQQICZqR0kx8xtBb2NDozRMDKfx6en5eDScx3HUaPzo+x82W812yF8ejpRSD97/4Pj8eYGOYv7u/Q8tr/Hy5cuvn+xt9KLTk/n9e1v/6//5395f67Eik2VJCjk+HzHOCk2doCmlJFQCmDSeUEaNMoODZ7brsyI2CeNAbM8HgwqJ5fi2Zwpz1u1uE9uS3ALCtZ5Pp6PRYNBp+NTYrkAtU6J1rxUZrbWC0TRudzpUmEJyFSvbb8+LQSGBC68sNeXEoMrytL/WLfJ5nCDnaqMXEZlYwiOMyrKglBbGIKGUXFYKq2ilIUgAGSC5VEWAGEIQ0ADihV1/oX3ApfSIBBdKubnQhC7Y9kXS3JvUFaoTMKpThvmVb14R1iXY/uoeV94JvPx8+QEuM0q+GWpriS4ZfmVPAS4qm7wR84WAiMjoZZorcVzboDo8Prh7++7tO7sHe/ucUgJMaZXl+YMH9zmD9bW1hw8efvnVF48efz0cjmyvYbn+pheWhlBu/fv/8B/H4/HaWoMCuXu7+7/8z//mex99IBgXjCLoLMviNAv9AIApreM4ydJUa1OWZVnmg/NzLYv1rS1OSVlkXHBANEYrpSgBBGY7nhuGlHE0qAxKKQliM4oYg3g+K4rU8zzbcozRcZbkRaGUzvJCaQTBKRO+z6bzuTEEGSEUAIALJrSwHSsvMq1LoODaFhADxBCgxhhC4eLkWLiqcpgLVrnYgwqFXkmfgIuDqS93qV6mwkscJRdqO5jaBKHLGvUXf62892+h4xufbwi1Gv93CJccoJqz73taJaPR+L2H4tatW91WG83HhwcH4/EQEXu9XuC7ge8rpfZe7hdF4bjOZDoZjEe3793/KProl5/+ajAY9HqdzY2N3/zms//x3/yrH/7wB1ipF5QXSmWFFJYjHKfUusjyeZJKKTmzHA+UMdM4bXa63V5XCK5NFftXVVNWFBigjsLA9zxjMM1y1BoIaTabjJDKIcm5UEoD0FKqspRJnGiNs9ksCMJcybIstFZ5nl+gEAAi2pZtWZZtW9pIAFp5s+DiiGh9gXhkIQi+sVN4wSAXQR5I8cIeBBco/cqASatyPAs1ahFH8koVAliwdXzTvo7kVfYof1N7Wo6piIZUoVVXTK9X8PVCziWkys34r1H3AqBVLBelFJWukjeKpCiyXCkluGi3W45jMwqtduOv/+qvjJbj0ch2nMPjI9u2m60mt63ZbDafx6enp0mWff7Fo2azee/e/d98/mWzvf79H/6g0WwKIUBYymBalIZAs9OzbWs8HAIwx/MhLxilRDLgheMHa+vrtm1Xk+O2xSjVxACA69iyLH3fZwyMMWWRU0CbsYbnFVla5Jnv+7bdHAwGABRRaa3LsnT8MM3zoiimcTYeT7VRUmvGqBAiyVIhuOPYjAshBJei2jghBABUqX8IgASNqTK2aYVZC0avL6OPSMXckVQn09BKo1rQ3QooGFjQ14tvgVSWQk0ug/YuvqwxIC4kUbqgu+by9/Ifc7XnZefLz1daEGGln0Ux+dV+YOWfuksQTWVyqZJ9kRjGaVkW08mYMZBlkcxmACRL00rn3dnZOTk9/+nPfvbixd54PN25dWt9fWM8njx99qzT6YxGo1/84hetpr+5uXF8cnJ0MvnTH7139979MAyEEMaYUhtue24YeWEE3DKUBY1Go9N3g9BQnkuVFipstFrtNmVUa6ONJoRQSgUXrue4nksIsWyuZVkZm4zRZVlKKaVUWuvZbFad5FkUeVEUiAYJ2rZtWZYxmGd5nmdGG4Omwl1jNGPUdhzHsQlBSikBYogRlgBGlTEIBChWBXmqPUVEJIYYQ0xF29GQygKhNKImxhA0aDSiQdQEDUGDsKhEttiBy0NW8SKJlhpCqpq8FYW7GOu1n8sd5G+QzOso6CIwCsmCal6RUvBK3OrCKrEiWfv9sHioyH+lJ14yesZY4HvNKDo7OVFl+Rd//ueU8ZM0sx3xy199+uLFy1KqvYPDJInff+99JvjR4eFgOI1azUkcU8a2d3Zs1/nZLz6/tbP2/ocfVUnJQCGdZxSoHzYKqTVOyyzzo0bYasqylNoQnhlCCmX6a5tBI0jSGYJWWlOlSyUtizHGtFZ5kTm2a4wCJEZLQlhZSq0Uak3QnJ+dAeDW1taTJ080guuHFOh0MhGO0+t1h9OjKhM6LbKJlFJKCsSyLCE4AJFSEmKIAWO0xZlWWmtlEBgwJBoXZRBfLR5e/LrICLkUM5EQgnShesMlZSSvasNUxPGVJQUXFoJLbQrUmzLoFbsLX4gV38Dfq7GqDpcC3NVLrjZePMaqeLO6MLCy6eoNt0b1EU1lMEajKQVEY4xeX19r9sLHjx5pJRmFp19/TYE+e/Hs/v27lmX5gb/r3s7z7DefPUmzotlonZ2PPN+Lk3g6m7W7HSrYF1889n3nww9u37lzp/JVUkpBCKWQEqCcC8ctlPZsOwiiJEvtouTCEpadlSpoNA0qJJQKIRgjBMqyVEYzZdGiTOLYcR0GhHLKKFqMaktU5JBRwjmP47gois3NzS++fFRIxRibp1mptRBTrZXWigCpjvLWWkolGaOcM6lkUebAAIAZrallIWIpS0aYIdQgGjQM2OJ8XXrBugEMQXOhWyMDqEgfrXSpRaQTkgu/EFwo65dEq9qDykOFgMTABa8lrMAqXg/ooqnyixIAwvFKWvolHmN9rrpZYPOl0PnKKrVwElwYz1a3gt6k58qa3EK5vFKppTr6h1Q5jUWZUwoA0Om0nIScnhz7vpfE8YsXz5TWs+nsJee+7zeaLa3U3v4+44wQePb8GWP0vQ/ePzodE8LX1vrj6fT0bHD33ubH3/tka3vL9T00Ks1Sxl1KSV4UwLi52EKmCKGc266XprFlu57v5UWeprFtMTTGsixCqEFTFCWVmnHOOXVsSwirKMvAc9BIxhgaBABjVBhFaTKXUlLKms3myflQG5jOE8fztDa2HQwGw9CYIPCN0bNZyQWPGoGSCigBIGiQULRtS6NWRlfchAJhDDgTeZ5b3LYsK89zx3bKQhqjgRLKEPDiwEjOues6RZ5DZdJ/xVUJEuScU0aVlAaxkmGM1pbjpGkaBH6W52AMpVQIq4QcqWGcT6cTwbnreQhEKeVYIsuL3y3t+FKvIpcfYGHZugimXR3xbpDWuXpXvKLJXQTUGkRdaqWkZVnGGEdYruvOZ7NiPup1u2Hgj8ejZrvheS7nzBhydHRMANbW187OhuvrPdcP9n799OOP79iWbTs8aPYJwKPHL5ut8Pbt2++9977tuNVxB6WUFnUYY0gIoVQqpdBwYFJKY5AyahANMcJ28jQty9KyHOBcWLYxqGVJKXBOOadhGDBKCRrUSnA2n6eWZQEhQvAkTqMwVNLOsmw8ngRBQM4HnIuiKCzHmU6nlsttx6KUtFoN3/fyPC11yblQpuSUV1oRasIEN4imommVH54hGuj1+r7rZVlBEMsidx1XKy2NKmR24cREQ4GhUQwopZQgMqiC/A0iEZx7toOIFAEBOeNa61JJWwjJGAUqGNdojDGIJCumhuooarTaLgUqLOaHwXw+Y0Jwy/Da5KZa9EJSEw9awWsRK4QYAivz+Bucrnd9HtbrPS9ufNW2QCkFIAwBUSMaYxQh5vTkKMjnH3zw3unpSZ5l8XTub/hSqiDwX7x8oY3e2z9Is+yDDz98ub/XiERvbW00mZYy39rZ+sWnv5nP5x98dP+999/fubXLBTeoOaWVksQYJ0C0VlppIMg5RazyaxAAjNaOLVTJKGeGUNd1fd/PskwqWRUWrRQ1rWVRKM5YYZSWpeGcEBRC5HnRarWiKJzNZkWRO14QhmGp0LFtKeVgMLAD7PV6xmjX9TodN05mo8mY0guxm1JAQjQapVQVSc44V0rmKhech57/wx/+4KsvvxwNztbXNmxhnQ/OqxcjsN0iL8qicG0bkWRxIrhlKpSlQBBQGc6YLew4mVcEUkmZpWmV6JfnGWO0LAshuACulLJs22m1Da3K+4RCCKC03ekY3deIw9HwTSXpul1HXJEhr9pvgUsrd13ZpP8ai78YBhAZo2hopaUqpYwxRVl0HbHtbx7u70dR6Ng2asMojeN4PB3fvXvv7/7hl7t3H/hhMByO//pv/4oLkWR5u92ezmbHZ9O793Y31tf6/X4YRYIBGkUoWrZdZMpoabQsy0KpkqChQAkgp0xSSilQINyyuODcEoRRy3MdxynLssJLIYSU0rKE1jJJ5u12m1JCKalS2zzHopQqpTzXzrIMgPqe1+3C189e2o5dSCWlhKKoQpykKgxaa2trlAHnnDHGGKWUmgthz1DOTVXJCgmA1kbneT6ZjFzH+eu/+ishxE/+4ceMcgokL7OC5LqUHGiR5YQQBswoWXl+uG1fnHoqhGNbZZGi0pQho5QxKjgHSk1RcM7zslRSEkKUUoJblrCbnUYVk+UH/mg0Oj05C8NwbWMjajRvhKBmuVH9Ncc3wg0y6FcvfXMTeM1xSwihAEorrV5pl5RS27bKLLZ9LyvL9fV1x3EMomVZhMJ4NOVMADDfwY8+eO/Jk8cffPhBv9+bTGez2dxy3J/+7NeOA5RiEEWe7xujwbIQSSlLMKiNRGnyPEnTROY54xSNpMSiFASjgAiAiJqicSzLUKAASIEwWoWTEGLyPAVwEVFKWUkplEJRlEWRC0Ydx8mzjAIqpYIg6Ha78f4hAKRp2mi1bdtGAK0lFzRNU2NMt9spVRHHsVKyEr610QhYZY9Uge62sDnnWsr5fH5+ft5utiil7WZLlmW73zg6OA1Cx7cFGmBADw8PVamDIJSF9FxXKSOLkhiilTbKgDFUa6WUlCVjnHOulSqlREIopZ7lGGKAUisKtza3Glu+GzqWsMeTSVkYALG+tj0aDQfnI23eMjMtsKbOT/VNCHrFNnGD6nZLFLK6rivr+1dI+MWUKgWeMXrhsUPUWhuDyXxW+owC3d3Z1sY8evL15vbO10+f7u8f3rlz53wwvHf3XqMZ/eqzL//tv/nbnd3d43/+hTHq8ZMXnicefnDfC4LqnLgkzwRnDEBwobUyaIzSaTxP4ljKklJbliXnTJUGjSqKFJAkSZxnGbPtqsDn4sBjwQWThapaELUt2Gw6YoxlWVooQGPKsgQgpZTlJDfGWJbFhUjTpNVqHR6fdThnjBEGlaWzLMuLGHvbns/nqFEpVYk/3LJs2y5RC2pbnGutZSFtIW5/8H6z0cqzfDA8z9Psow8/fP7s+Wh8nhdOf61lWVZZlMQYRgklCATTOClLmaW5lpozRgAIktvbva2NdankPI6N0UCg3WpEjQbnvIqUUFLartvtts9Gg+F45gd+mqTD4bCQZdSIjEEmyHwer64k0WtY9wIvF2hKzGXE6zffd+WI6Zto8Rddr9rACIGqSGhlizYEkZCyLEfDc2G7t+/c+fsf/7jd6WZpKoQYDM7v3r9/dn7+7/7dv/unn3+qNHDG59PZz3728yTLLNv65IffnyVplmdaK9d1KFCllAF0bF4UuVFKK5UkaZamaIwlLKUkal4ojWiyOBaWNRoOjdFt1zWMFWUJAEApF/zC3ACA/9/m3qxZkis5E/vc/ZyIyMy71q0dQKGwdoPohd1scbgMOSMNbUYjifM8pjdJD3qTmX6EzPQjZDLTYpKZJBu9TD9RGnHIJimqyemFjcZehULtddfMm0tEnOPuejiRWRfdBQmtMY4pzHBxkYhcboaHL9/3uTtZTmlre/uTTz+5cePm6dkpcb29tZ1S6vuuCvFsdlbFKsTqwf0HzDIeVweXLh0eHeac9/a2dnd3D48OsVxevnwAeFVVdVOLCOAOZQ7j8Xg0aprtbYpifWrblty3Rttvvf76/c8f3Lx5I4BmZ/O6ri9fuWxZt3fHB5e3Y6jf//n7dVV1bf/wwcMgIaVsWefnKzj29/ZEqq5v9/f3b7700snxMUCxil3fb29tAVgulymlatRMz86I6P69e7Kz5UKLxQNVnS/m77zzTjMenxwf03a9s10F9e6XL/CLUCJyz7+sqF8j84Modf0QYUN5DxZy0V7+P5vdiz7Wi9yq0aBu8IIrG5zJiVrNMYSuX9UkkcPBqDk8X350NL/9+ht3Hh7+q/c++sP/4Gvzzg7P5t/87vceH01PzjtI+OGP3rt1+6VXXn/9+//bH31w92hvb/wPf+93HPz0aHZ4dPT2W2829VizaswQS2rOOh5VZyeLKJT6rhk1xN71XV3Xy+XKTHvDcr7ssqeUR+1qZ3eymJ2TJXbs7OyMRNq2DWohu/Y2GdXt6bwbzan1VNd9D2g3qgNZd/Tw3suv3Ngd0dNn0+BIhroatT01jdSTBoEocNIU6rjsO4pxvLNzena2vb2zvb0VqpjNLl+//u47754cH7t5ytp3/fx8OZ3r/YfHj5+ctstlxbKcz5sqqqq5f3Ln07qqnzx7QvCcdNzEyWi0OF+stN8Zhb29vcsHl1VtOp1Oj44+y/ns7EzNRuPRfLF4nHOG9X2fVEfjUZ+Su69Wq4X4q2+8llO+du3a5WtXrt28MZ1Ody/tZU193wXHCwz0S2r1F9jCAN2vTfOC9I7L6wyPXJBX/aIxffX5oC/6WC/MRhRQIDh4zXeaw4ScieDZ0jjySPjWweWTvYMPPjp+a7z/F3/1Q6m2zzs7uHTwk5/90T/9D//pv/hv/tvf/u3f+cl77zPnf/sf/MHjZ4f/x//5s6oKb7/za/Vo5/33P1jMO0Z4+aVbVWxMFVRRYCMdbTey0jNLozrWIVQxmqmqL1atOa167bI9ePhoOp2r2qpv34g3vO+T29nJaR3DJFbaddp3IVZ7+wfkaKfnutf2y9abq9PzpXXne69cPT58pP3c+/m1S1vbk+bu/WcrlT7lZafO1ZPDZ5PdbWeEGB48fjSebO3t72fH/uVru/t7BLp6/YaE8OmdOwe7R+jzrdfeaJrxdDb7yU9/9pf/108//fTTdrXYHY8t9+y2szXe3d7ys7xKraldurTXdV23ardGY2Hy3LOlZqe5cf3K9mTr7Oxsif7o6dPzs7OccrLshL7ru5zGk0k2zWZdu2IRNU0p9Q1dvXnllZdfYebt7e3xZHy+mi5my2eHz1T1VxIsfzkL+ksSp4ucE77Ez/0bPQg55dBUKeUgwsyxqprR6K233vzRj//V40f3nz15+u67v7azNbl3787X3n4jJ03Z33jjlf/uv/9nb7751isv3/gv/sv/aW87vP3mG99+9+sPHjxeLeepX7108/pv/lvfu3JwMJnUIu6aQxWbWLezsyj10rvxZJyyJtUY4+npyc7+pZTSfDE/nZ3ff3C/ipXpXuBQ13U/m2vCqs3zqlvlvGhXB5cvUaSnTx7devOVp08ftnk+P33i2r5y40prPUKQqprs7nuIN67enCv/5L2Pnh0/ena6uHbjpcMHz9p2dfPmzd29/XEz1pyfPHry9XfeeeX27aPjk/v3H3TtvYPLBz/9yY8PP3tQcZj86CcnZ2ddl5ardjabHR0edavlaeDJqL52cLA1GQeRdrU8nR4LCxOpKoPm83kUEZHReNLUNRF3XZ9SNncCNGu7anvtnSjl7PDCk5kZCbOZE1z9u9/+zuW9S5f3L6nq6cnpw8/vt+3qyZOnZQblr1LFvxAc/XLy88tO/qUHv+L746tv9fS1SLYgY15iPRlg7hlEXdf2kA8/fP/1W7feev329PioCvTqqy/t72z9V//1H//n/9l//Fd//aPf++3vHh0eCnX/5A//3f/1n/0v49q+9sbXX3/9jXa1ePjgHsOF6I3Xbn/nW9+WQM2oytr1nVp27V2TxhhdLcbqfH6Wco6xmi+XyfxsOnt8eLRcrU7PzsDEUvfp5OrVq/PzxY3rV56dzsNo/PT05OrBfhK/d/eD7fHoW7/x7iefVHb//ocffd7OZ83YOex/+Omd/Z3tDP7hj3/y8q3b2fHZ/bPpMo92+P7jz/ou7+9eunb1etf1H77/wetvvPm7v/N31fTP/vTPfvjDv9ra2tra3hmNRsdPDtvDaRQ5OLh8Mp2dnp6t2m6+WAnBXXNnYrmdjBaLepZ6tT5bP2+7GCOA3ck2zEIITaxyn91svlgIs6o2deO9mrmZWlYvgiUW7ZPB1a3wpCJSidz/7LOmqefT2c2bNxez877r2uWqXSz39/cnk8mvwiTRC4skxzqUb7B6PDe7L8JPLzbQX2Hv6Fc9rxjlRQMFWDilXliEObcdarz33nvvvv323//93//n3//+wd7upZ3d1XzOZuNmfHp89Pt/7/d/9KMf/6f/yX/05NHDo8PDv/u7v/Xo8cNmVH3y8Sd9v2SOBPv619++dv3K6elplOCmapSWqe8yqQLsTqq2XCyMqM451nWXcpfS4cnx8cnZ4ekZhLd3rzl5OO+Yq9N5ezY9meztdOqtWXt6crqcLfp5PIqJ0yIt7j853Nu+zKNQb2+9/Y1vb43Gk9Hohz/84V//7ONO08Mn/W/81ve++d03njx7NqIrn39+f2s8mZ2dj6rxJx998snHd3d3dxfLRS0xkKzO56v54tLePnfp7OhkOV84sJjN+5y75aKuKlcVQdf56fFxv5y3q2XdhN1LW03THOxfqut6VNXns5nm3PV9aru+612VQEFEWKJHzUmTwYb0L8SYTQUAsZWWT2FmefnGTevzh3d+fvj4aQihqWs1PT08aueLGOKLmaQvueov9qAvDO4XT90E+he/wlf+AF+97fiFBuqOlDNXLEE4hKZp6ro+ODg4M52end68eZMJ3//n3/8n//7ff3j/3o2rV+/fu6epH49GP/iX//I3fv3XHz14eP3m5fPp2eGzJ0yoK7565drbb74uRDA1VTfz7H2XABfT3PcApZT6PlOQ2ex8lVKGh6ZJji6nOG62trev3nw5yvj45PDKlcunqzY5ThaLedfd/fGP64pfevnaJ3c+ffDkcYh8Mpu/+fWbv/a1d166cZMUO7t8aXd3MVssUjCZmHdvvHP50rX6vQ9+fjo9vVyn5fn83p3PJpOt5XK5tb0D0GJ2fn4+N/fl9LwZj1V9dj5r4Ga2v79/cPnK4nyp8EqEHDn343ochHPfLbTPfU9enZ9iPBn3TR85ttp3bUptx8yuVjaCuFlKCkdjfepT17bOKKxViIGLBMTMcraiJov09P6Tx8+e7O/vX949uHxw6dGjR0+fPp2dns1wFqvqX38E+Kblg9yHsWcOlN/Xwq3NqS+oh746P/TVs4EXGqiqNk2lWd3d4VnTm2+9sbOz/f7f/ChGiVGePnl4eDh9/far/8P/+D//9u98786du9dv3PgX//sf3b59KwgR+dWrV/7yL/8yayJwXYV33vnazZdu9H1rpimnlFIxVObQrc7b1SpUlc7diJjkdHb+5PBwtLVVj5rx1vbVWO8cHNSj5vorN8xERUd7k/1q9/DZE2VWCddfuT2bnnYqb77zrdnZyfb2xKsj4SDN5PC0e/rwaaTw/t/8Ud/mnFMzqiDoafXjn76/7M5Bfp5UOBzsXyIiBrrFUtWWq1XfpxhjTmm2bEOIk1gHU4heu3Tp2vVr9+5+VgkvU1LvCR5YqsCWsxu5ZbhYzrnrT09PNWUGhAVA33cMIiIWNiClpFmt6/o+5ZwlioHM1NQhgMPUUp+yFWAAWCx2x1v9YvXeT356evNm27aPHjwQFhFpynSKr2ofL8ZBB9f4i30g5BuF6IVC+4U401f/AC+y7xdDV8+hg4H1JJTm8YzU9533XdfX165fPXz29PDJ0+vXro1Go48/vvNbv/nN5artlQ/2L53sne5sb68Wi/F4fHx8fP369dPTk4cPH+3u7JhZqMJrr716cLDv0PFktFgscsruIBc3tCklMzCDA0lQs9OzGYm8fOtVAzhWFKKZdV1/+dpVNZMGqWu54vHOVmjqN97+2re+8c0HD+7/+Q9+cHR0VsX6zt3Pdi/tz3L385/9xb27x5VUNYc6jAOFGEd99roKOfWW+6rZWiynBCPX2ekpgNTnlFLO5u6ByFNuQqzruorVYrmqmVPqz46O61g1IZBjXFfuzowoFMgRAsMlhsAsYKintl/SMhA3TeOGnJTWAI6p5pRVFZncwRKIRQBihpMpDK7qplAFSFOf+9OZmp6dnW1Nth5//jClNI6NMJt7zTG80Kt9SYPRV+KcBu3qhcf/X2WmL3joxXb3q3jQTZG0dqgALVfLIJJzDkBd19tbW3fu3l2uVts72/v7l/74j//k937vd//iz//sH/07v31ydhZjzJpjU8cQFovFq6+++t5H74cQF6vVzs72tWtXXn/ztfGkjJepnz574oasKhLcqXdfpexuyS25P312eHh6cuu1169eu36+WMyXq1Xb9pqX8+X1l+nll26suumz1dnDe/e/9vbb21s7N2+8FOtJCJM7d5781V+9pxk7W3TpyuXDtKyluXLlmqBir8QjOee+W7XL6flCokqwbKus/aRZ8jDEk4ioEq5DMDPXAfBDVofujCcV0sozco+UX7p+7dO7dyOoGjcEh5urB0YQCrEOEmOsU8rJkvba1A2cRAROG/dkXrTArFAWISYnAlMgyq7ErGZqBiYhBtDn3pO52/Z4y81zl+qqCiFWVcXMnu1XCvG/Qr39qxx/C4Lli6+9JrncXXMOwrEKZK6aC2e4tb27vbsznZ5dvXYVxHXT7B9c/vDjD2+9evvu3btXrl55/PjxtWs3ZrP5p3fvscSqqm69evvV117b29/pc9fn7nxx3varnd39EbiqqtWq0xlQxdT3z06nJ7PZ+598cnh09Ojp4ad3Ptvd3+3VqlhVdT0ajefn52cz2d4ZEx0QfDKebG/taPYPfv7xnU8+61Z+8/q1IFGT5g6T8SVL3i2R+tb61nqYu8DNOqccYw4BjmTuHjOYiYhFmFmYGWwl/3IGEISrwMKoOXJdg0j7Fo7d8WRBKw5BmNyVyAKhCsSBA4uQQFxLXWGaUyprRyD8fA8swQnZjIjYmIV8oPDYmQq1XczUABDIMgAmYpH19gvXnIvjDC9e9PZiB/q3Y6AvFjd/mQf96hT/hRx03f1CRETkbjn1q9Xq408+/sZbX7t2cPXgyuUf/OAH737jW9Ozszfe/vqTw8NLB1fVMd7ajqHOjjdv3/6TP/3TZZtyzrdfu/yt7/zG177+1s7+XptaCGaLqZFKpLJZZtWt7j16+PKtVx4+fPD5k0cP7j+8dPXKP/zH/97ZdDqfz69cuVZX9aTwfoulcmoXq3uf3Z+Mxpd2Dxaz5Weffk7KfZuPj06jxL3tA5h36M7OF89OT1w9ZzND6a1m+DiMihlFkkhELEQK692FRQQcBYFZWKwwbA4iCiIxcAhcBY7U9Fm17yVUO1sTZlZTElIFw4URhGMU4Qoe3QlOapZTcYWEQcpIDpiZZjOzomB3Wm+yIQIPHWHqntySZnN3eEPMzExShVjFKsYYYkwpqRqA8CVX/G/JWX719/rX/gC/9ALuPgh5sjGxMN+7d+8P/9E/Xi1Wi+WSgkx2thV+cHDw/ocf3Lr16qPHj156+eX3P3j/+s2bn33++eHR0fm8rZv4rW9/59bt29s7O73maPlsejpdTN38w08+mE3Pq1hv7+xSXf3ovfd+/KMf37x5c+/q5du3Xn3jrbceP348O5tduXx1sjUZ1ePVapXatFwsF/3i2aNj9tPUp+Ojk+npbNRMkG25bGG0XCxXizZ1/bLrWqNB9wIiGIMDmKgVQSUUGREUWEQi0BK5EAJz4BDFhQFiZ4MzEwWhGCkIRxKvCEias4Qwrmsza9vW3YjBPmz3omHOLIMYxO5mZqqWQCW5L8Koolk208AMKutny0Qng5Ob96bJtNecTc3NgVqYUIxUmIWICZxTiW/04m3HXx29/zd6vBiI/aWzBmThF4F6UFGzq6a+cl+1y6Onj5Pmjz69+9lnd5vx6PHTZ+++++7Tp08Prlw7OZvGejRfrtQA50dPnjbjrbe/fmNvf+e73/s7ly5fbiajx8+ePH36aLmat22ras+eHk6n58xyae/SvcOjn/785wR8/uRRu2xXXT/e2vrk4zvPHj+9ce361tZ2Tnm1WJ6fn58vl0bUrVbL5XJ6Nl0tluSwBE/57PTMzUqbvKkx0XYzzqlP2pcm3kAmjCpoFSSGIPDAiMxRQmBiJhZiApMxubA5wAaHMkTg4h7gDIVTZAKYzCVSFUISUvXIQYIJgQUCH1o2N91wRVdrls1KA3fBbdwNBGZxwIaheFZWXCk8ae41Z7c8dI2ikFLl1cqS0nKHDAb6t2lQ//86hjLTTDUTx9lsJsIfffTRRx9/Cjh3WbhSw/Hp9NatVw+PTt56++3FfP6d737vypUrb779teVyeenm7QcP73/+4NHZ+XRnp/nkzvt37nzStksWzKbnZs4sKeW+S/XBFWOMRiNLWo9HDx49vPPpXcs5kBw9PSr7uqHetX2vlIw8axmytFwsc+pCkO3xyDW7qQRihikqDksNZNmd1JwYQSABobYYqBZjc7gJOJKLEANCYHIpU0Lc2IeuQRS5FBmRIbkTC7GVCKwqNOBHVS1VFGEQzDRrRjGgoZGbqKSRgUvfBzOzO0jM3VniuqHYTLX0Jatbdkua1YYdoCCIhCBFSS3lApWXLf/5q8BMg5aJXvSUzUQU8gvLuL943sWRkhvJ+4VX35z2Jdz9c/9JX3gx+oWTNv2v67OHz+aes4qEGCt2nmxvX3311ePpWWyqd9555+mzJ1dfvj6bTi9d3kOwb3/nGy/fujU9m21vb3/jm986PDqcTmcPnzyztPzwg785On7y4NFnoPR3fus3X3/9zVjFo8NjolBVI+YAx8Lj0en08PDZeG/cLpZnJ6cMjhI0+ez8tGKxrHWsUtepydls1bXLKoYYA5uPq6qKEsjHu9uek7n2fWuuJGg1RTEyOKOKqCKYyQ3BlJmKMgaWLCNWzsIl9SQmd1f1AfoDyBXCTMRECnM3FmEiddWs5hrYhFFFbqogQrCUiNw8uZYGfDBgZVwjWITK7hEWJxQ1IzvMh1Z5dai7ume1bKYKK04WRITIEoJUMcQgzKWjD1ZFUwYQ6EXg4pcM+uKNXRltbK5gGWwD3s4OrgzR1AlGcDIf3sPLVggyJ3cus/aczARr9RPWYP56T8AXjiS6tmfafEZzl3XMQWlydUgZ7+uDfL5AtQyqECiDOByeHP/BP/iDGzevL6aL167erPe2vnn71x355z//ab23NZtNL7/yynT17K//5se7uwcf37vz4Qcfu/n87M79B5/fvHnt2pUaXl+6fO3llyemi5OTRdtn07jqXDO1bVrMQtum3IZnq5laUgu56z2rdn1qW099zdEkBJZsi2BtrAjWeucNzNXIMIqTmnyVOsupJisrOLaxAHkmMGNURwL6PtVVEKJAIdTCBLibaaMWWSIHCrWxpIxONasSOJCHGISBSFSxEak6wRxmrpo7zUnIQ5SavRIvQy6I1cQyl6huENCgXGU4SpefSJGwEcy1m5tRGcFgjqxmTikZ3EkhToEpEAuRILM7g4UkBhZmYob1GU74VUI8Dx7PLzil9U8ngcFlGG/yvNndBnv3L6vWIfxFbzt01vsXPOrwSyFMabO53AGYrZ0plaVTDNKh4WZjzlT61OpRs5wvYlXHqqqq6v69z6cn5+15n1L7zW+9++Dh5x9++PNmVPVd+/Gdu7u7+4dPjz+7/7hv8+np+dUr1yLql155++bNqxwMUjvyx588Sil3veYE86h5OjvvprOZpUY4kHA2TalrV6tutSJ3USc1hjs5V5AQ3JFVafiO4GYOq6pqPJnAnZhGo9Fk3Lhayip9bttW2GIVmrpydxGKUQIXNIkHKJJN1YiV1Vgcz6f9oezXdnNTyzkzk2UzAzMBxgwWFgQiFxHmwCREADOxi3gVYaoKNTMCEajAQyISJAy1vLvDSGKGkwEwmJlaNnBJDZiZRISrICISOQtzaZUqVmKqZcEzgPBCX/ViAx0mgF/wrgPuQ8CArsFtaO+jQeW0TnrWc6MHXrxAECBAQI71vGgasiPXbOtUYhPW3S5QQ+tFJgIuWPRGz0/E5YYtfzCXrkXmjNx3pkZp0ebkf/onfz6dnq0W7ThO6iY+PXx2cnq0tT0mVpZ6dt5euTq5dqNZLroQ6mvXLWfrFlGEjk7788Vpn1qJPDufGpB663pNiVOi5aJfLFYpTSVEYU6WU59yTgQntwiqSAIRQVm1Aql7Tplp6ESQdd7DRGYWQtjb3TnY21sul7Pzc6lrs2yio6YJQdy0Eo4xBAKxEDvcrAjastnwpZpDQGBit1zuczNTJVXNmdXU3MmZhQgIQUp+GkKxjdLW4QQRpjoiUYncTgQWFpYyTGWwMC+vD9GKkFUdbqqak2YFMbuDQRQossQQg8QmMBOFEGKQTW/9+t3x4ir+hYesNzNefJDAeB5hy282GC8BJbgTpEjl1hMdCMMQSAIJfI3aOkAUBMJuRigZAjbOUvwX/D3BSWQwUF8PNncz5kjMZqpZu5xVs5uraup7OFLqQwjHz+7XdVXXE6K46vLJdLY1GTfj3Sry9es32q49Oj5bLvvUZ3MQMbmkFdTSql8tVzP3zAHLVZfUui63q75P7C4wMot9TkitwbOmsu+iisGdMlyYYK6WLTl1kjWpmjO4BEsiBlbL/uR4ev36pVFTwXQ+n0ug3b3t+bKrAqt7YDAc7CISYxAuwxUBIwVUBcZl3QIRr0si33hRdzMjVWVmhxI58ZBlMcOdmVlEUDYkFRTZBHBhVzjBypcemEKQOoZCxBMNGQARQdhcCDa4H1XNAxLtxAy4OBxEHkSCsIgEWRuoE6+HggTGiyPvLx+MNXk2GCStXdfz8E2OwRTLmEgHFRt1et6A4SAfJncSnDWZques7iQEBKYAzwUnKn60jPcTvzg0bzMokAGYwcxy1rL0XNUMpDl7zjlrzsnM2lUbRKoYR82WSLjy6tX5fB5CnZIupoudnb0YZdX2Me48fnp0dna2XK5EglAo6ErfpXYZUuqTdl3ft/2ibRcpJ2JxQ1Y3C7wunVXdoRhWVhOIFA53dXdPYoB7tpxSFgZzyaldiMvPkucxcQjUt7nrVtvV9tbWpF31o6rq0blmgFkoBhIyIZISXhlDf6jUEkKMkUIwElP3dV1MhoKMPz/KZyCHQ7U0JJfm7KEkcIO5O0wtW1bLau6BSZhjEBEmIuahn3uojMxgPqBH7gAxPA9h0mFu2TyYZ6VKyv2w8ZrrpwBA+H9c6/2Fw6msJhlSAqLn5TGAdbppQ+x2Hm4XDNP3yQolTrweOOcOMaDPlrPlZO6QkpCDiwjvi879QhK78aukqu6Us6aUU59SUtWsFtyZCEVlI1IHoSgjYTFVQgxS7e5eHo93z+fz88VZPZo4hbPZqhlV6ovZ7JyZVOn89GwxX4YQzfz09LRrRyJinoCS92cWyX0mCHMkEgXBYF6iqwEAE5hhpsmGCtNcgYpgoM6sIq8JRBBiFggJl3CLdHJyPG7q8WjExKnvlwuKQluT8ZLQdiu416GJIaS+p0JlgpmIhYyoloZDCKGCxGSAKhwhiDuYiYmYh9n1LFTKaR/q8wHlMWN3K9pigN3doEnLeL1ERBQkiAQRrMfJDHydmau5mpuW5wuKG6c6BGDgsUrFPjQIAkwkzCEMIb18NgCBv3KIN7JBn4R1sba2IB4YtNKX7GzETuZeWtUEZBcn4zvIwA53sDusEGdq7nBzZhIZ5kkzSOFCDDLCRjJTtk0YuRu5Ws6ecur73HepT6nXFGUUQgNAWHhzEHWrrmlGzFxV9Z1P7+acz+eL0fYWkR8/fQrQ9NxPTk52d/em0+liMWeWpqn78/lisdTsAEVEwFWTQ00V1JfPZAb3XBAIAGUwAgCUrbhDCyHcYUAQVCEKs2VjZCIXIh6CMTENU1GEqanr8ahJqVdVdwUQgsTAuQMTiTAP2LjCGOLlnmTiWFUsIhKMWAiszmwgKQBQMdDBezIxbzTmBndVpeLFldzNndwVEHPL2uecVDMzA3EYzYxCIxdTss3gFjcnN4ZzgWMJMXLxLsIIgiAkpSQGlckUpUoDUFfVkIOKDTDTRU3xL07DIyJgxQUeJiIhCkIszCU9cSdYSTGMxNjYurxarYypqpvYNDklNa+r2s0tG1TdQcYOBEN2sCFnhRFFROIMH7QHTCFEiYGYZ8dzIRYJOemybduUTJ045GRd6t1BFMHMFNXIkwpzWeVMTHBWdZAsl13OOfXHllVVu74/PL5n7jmrqhaV3OnJvDSPm/n5bHnhm0h93w3hYhhECmYA6qbrzmwG4KY8sFcoYbeAkWXguSqWmiogBCYQl41e0JTADhdUUaoqmNpyOU+pFSYhOu/btleHwTSEwCKqCiv1xJBXYiiry5zeAphToDCSqgb6pF3X5ZTLFNLixQhFl2lFRuwGJlLNOVupkGjdowtYIEeZH0JgV819hhUnAGY4hh4PNdIMA7nxUP4Ls8cqDAZKVIVQBQ4idZQQJayPYpfroh6hYIu/oHgvyQoGmnDwlsIEdrJB9+fuSuplEqn1ZqmqeTyKRA61nLO1XZd6jW1qKieCS85OXlqDTLN5yqbeAk4wQ4z1aDIOVUxugUlTypqUkNrSyOLTo2nJ3lPSrktJ1cHMUc3VnShwYAZn1bquY6jMLKXc925mcHRtu1q2pahMKVnOZtbntOrbUu/a0IjAKN36DmCzW7LcqQmDAx/cIhFMN7hbkbINXpQ2S1LLDV82EHFBHlARqsAxhuAWGRICuRtlcoRIZT5NLKpd5ijsALlJWRMPMjc4uJSa5nAq8CGLCBMzxRiICeAStYGiyWQRcWYMhbwCUNMyWNbMrKSOagVFAAzODsC4ZDVEFkrXHJEwMdxNs+Y1jbR+WbMqCLkTCwcJ0bQQZmtYRlDG6KHMeRh0geWWNwPgqmalSPLnHnTTrCHgtZLSB2wOIJjQ2miNTdXVYQZXzSt4Hks9kYbFlL0HcerTfNHRItRNiJVw5KTCQUgsmXepbducc727NxlPqrqqRvXO3h6LzJeL6fn5KvV922fTrNr2XcqpiU0ghhODhBjCxEENRiYUWCJLdDfL2q66bpWyZk0ppdSnZJpTl1KfSghTU7J1Sr/Gs0oqOLjAAXHlgc4v/3vNX/H6bHaoXyzchpKzxpoNIyAMPsh58KBCqEOoY6xjZBjDggSHIyWDR+EQpBKJgWOQGMooJ5gzCRERIbvCweruOlxgEBMHCaFgik0TzE0zDD4odJkEIiLGXGCTnFPOmQUY0ubnQ5Q3DWbrRsWiUDEqvk2YmQnD3yXDfnCgrFRiBlEQZ+cQKELMyYjNuetzcfVDLcwkUk4HM4aEDyBQ1jzkoMGeV0wbP0qWntumu6mB4GxgMAQQZMlZPRlMVfvcLwgJYSs0dVWTgYi5YhY1VXUDjFjgRhyZyzfc9Wmx6voct/e2t3d39vZiFcfjMQWJsVFFToaMTvtl36J3zjTeGbOwZneDBRdIjM1i1blBy0p1175Pq65LXa/lrVVLGV8iHm3+xgvubVMm0nMbGzZUUcFr18k22XOKlfx5mSjrpxOhbBCpmZgYBGJAeA2UW7HpIFyH2FSxChUzyF2CuJnF6K7CHISjIIiUIFhQNHUIC5QcZK7m7upGYOLyj5WRWMQo+k+DYiC2iQzrrLPcfmaqOgAgZWBmSe6+qBNas4zkABGVSWASYxSRdVKB0uS5nh3uIgVE6osLjSxOAo5OXKXs6qbqblLg/zWLP1Td7gQytwGrAoJ2/XPYe+2C8/rNVLWQ9w53UiYirogCKXNySwpT7VZ9OxPOya13j5Mq8KgiGUvsq1r6HuDoEANlIyjg1qmturzoUp8WbadeOBVaLVtn9CnnPkOdnMQYvVLvdVnyY7nv83K1Sn0CV7lBXzTDWTVpp9quUtd2lhMu3Ha/jKTRL/1STi2PrfdSMqBFEl6GvpKtc0wCr5c/s5RlbBACMYRAhJqjEDsTMZUaoZgrkbNDmKoQmhhjKCLgIFKqvd61KI84CKJIFBYZppvCSTh6YjM4QS2XjUVBnJUyOcxZzcEKTcncixWvBbFqIPYvHsOt6qWGWw/lJi+jKteF77oUJoosQSQGYWH4gCMFLqoRdwyL5QlcMaPAV0GIIzg6SVVFMyvwn7sxETOgxAQetKOlN8fNyoIGhNVs8fz6bCrtgmi5qeraRp0tBRHEJnLNzp5gvZKpr5Z5ueTgnfbTtJD9rfH4kmtdi0zqioGsIDNzI02aLANpldv5slus2pTmJ2fj8TN1EHHX933fp5za1aptO3dLKZ+dnfWpn4wnVUrJdLlsz+eLrkvgWHXJWfre2rbvk6asXcqWc8ljNt1IA89v8AusKKMwXWsNDKis/Ss4mroWRIJA60oBdRUGJMEha/IqMIghcBFihjARo0bDzIBB2IlICFRIBSd3cQTmGEIUkariqhIiN+sTWVYmFyYhBKEgIkIwd3JyClzBoGxghZEaAGNIJhJzZHMjMaVsUVPRcLoEAGaunpmDrT0O1jgODcsOBwdfAkrx2iBbV37FQD0ylcqKiYhJMBQ0qiXztLLaRoTHFYECsbgIuAJHgNRJVTVRTnCzst3DvGAXNLCN5kVRX0wxrJbLjXVufl5MeFXV1MxcrAexVOyRAaFEnBSmvup9YVahM6e+nQhFmWQvGoIQS4WoDmRzpMKhtKldrlLbtR2ePjnue53OFrGqlsvl/HyectqZbBWeQ1VX50szQz3JfUo5rZar5Xy5ahXcx6wSqz75atmmpNmHjWcA+2Y3gw+M7MXKhpmL1AHwNTzkG/Dyiw7XicEAM41iBaD4CPJyVV2INwYahFgghAqh6NbBBHEwO3kIUrQc7GBQUeeKiMQoJZsyVRCTlyF8IqVeJmIyU2IHsa8vpYPd81BalOHCxWmaEVGnnYhIIGIUAMHNtZQeF1UKVG5VIfLys9jlgD0RDcuTSmVCHGRt1utDRKoYs+acy/YFFOHxqHYQgcUpOAfnSCTJlHPhQ4tC1Bmw/PzzXPTug5ZvddJt2M4NLy8yME4wZieYMTzSbnBBn8ghnCllbXPqyNqxa5xN+x6dBD/paGuZw9jMvOvyarVy1RCkijUjdH1qF91q2bdtSj0Z4apWOFqenKzr65wNPpXpeDyumorN9lwkxCZpeNIGVXFUOZ62lsi2GhpJlSzNVdsuR2BMgONcZGmUfHCDxFAfojM72NEAkaCaAMR1DPNh4QpAqAJUoQYAdUDTVFUVJ9TzIFJjK4py9bqqy5Uqy7UKrVhrDoQYB0DaCQOUQEQkWIOzRBQrxJjM3Nkrhjv7EHC5aC2sMCMMhzutKCgsufaufa+9makFIhrUyWv4PUUWtWBZ1CVIYAnEq9WCzCohCDHgag7EqEFw0ebKQIWh9kAoVighBGjwdog1loezPbknAeQ55aNkrnkEFnFeA/IgEPea1CgDJgYhAiBJegcU5D6gS0QECQVkGP61zp2Hrp01l/D8cLiI5kF/WMgsNy9jpC3nDCYhoWDZdNW2lrTr2sVi0bUpCMbjykcQsq5LXd+nlFXN4O7oUlu+34GM2HRiupYkichAVDgJuJETE4XoICpaRSEKYRAWNFXNZr17XxhvQACzIVARwIQaFIl4zb/VNFwb8MAEOJNEzqpmTowYQxVjFeI40tqw2EomrxZCBArgLbTO3aoYZA3mleZGIlKzoQmbn1tSCLLRAK3ZwsHh+YXIto4Ewx6jX3BjF2nL4REv2ZwXOzMnMIIIFQDRh16i8rk3L7Vxq5ufFw8iEpY1xO/rp7xw1gEKRuvMIijFORGGeKylJb685rouHxiHgcovdwWAMNBW5T19867YhPjBQN06S6EERJCKe2EVMnrVPqtHkRCcNWdNi2UC+q5tW7cEr5BSStxbQJG1mGlRqjrQm4o7sbEIChTjCIFjZAlEYOLIzDGK9ZnggVEJTaqggZsqEEGiaJCeUDFNxnUk7rs+p47TENZ1vaAkMppKKg6kVkZ9C1Fch9FBsMDFG5JaVlMHQgghxiiyVQdiDlIcMdTUlYY0d0CAqBSkzfryEpEwcwgSg5sbhm22KPolAguVLe0XDjKzbM9jq29KAi43LQRkImbGoILyMDaq9kEUWlwMlZhdQPv1xX3OyQFMz8nEi2a6MZrhEQdJea8vGGgJJsAv1JuuqqABW2U2kBJZzjlr4USsWGjpDNnch6p68TYDEHLO5Wst8f0iW78x0DKMOKeWwcK5jiTilrRfZU3SJu9cQ5lfTJRdLSE5uaEK4Iqrips6iohaMk1m6m4EEgGRaK8iFCKHICw04I6EEFkEzCwBxCRClAEhI0CCRPHIsQrJXYi5iVa3jfBkHBupeiYjj/AqqwMKJAcBdeSdybjikLqkKUWWwAwo4CQkgasYq6qIbzlbNlOHD+1cTFWwNXbO7nALRaFywZExMzmoLrSKuxNYOASWwFJQ6bUpFAUMC5UtghuYxp0UZOz+nNaHuamburkZmRHAzEHEaYAkZePbufCfa//qxdbWe4zWXZa+kUpwURddDPEgYreihhg2zAxejWVQNDLWTm297voLBkpq6uvFmWY+SPDd1Xxd15R7D75OLAegi77g0YOZbVLPjQ+gC4vGiqW6W596B4RzdgoCTdb1btmSIaNoBOHQwr0KBMhgVLVMxs2oGQE4n52XumsgL8QKQiviEiABmw/iMJACRCxrdWka1cwhGBDNlImiOHNSZXAYVZLrAKljGFdxF05knSDl7O7GlFXNvWmqnfGoDlWq+tx1TCxCpqlUUSFyVUldV1LFEEWLrLKo5WAARVZhEi4bhcgccO8GOXCx0DKOgJiYQOwOQhHqCHGsYun12fgMB5ysTEi90OUylG/E5Fq8obmZuznp8LRB9RucvaS9xTTli45myIiLrrNkbgUFpkFC7k4BRVO7ll1t1I2+3rzqNLRyfonw7YUGuvH9qlqstKS2+CKjvgGOLpZuG7fNzOGiwfJa2LyJ8sxcwkTRqThgKA16rvBMSO55DaJq6kmsigRm79XdRbip6lEzapoa7nnUkMNSR2buA6HnoiFwEOYAKdy+Wyxi68Axrt2V61jqWEV17yy7CCRk1UjujqoOI962pILMErfqwFb3zMmG+QUZpinFGLebuq5rrSRVwb1glCFnNYCFq6pqmhjrSoTUzYzMNA23u0emEEiEghRmj9ydYYCUXKSo3kDkOtzpzMwsJATmyEGC+PO16T4k2kPqvTk24XW4XEOO5e5WJHxeLNKFyQdvWRR3RZRJQAzy3BthnXGubw5yUGlkKKLRCx6Lnhsc2aCOW8uC3M1tM0dk/RR/oYEys4MHl/2cmSvuz4kH1JWZdXO7lvBB5O4lAXX38Nx7rw++QDmYbVJgotK/LF7gLYORmiXkUn3Asho7GmY39CnFIKNmtL293TQVwcG0v7e7lCAkbejIWbhiIVFfawFpSJRh4/FYhEU4xkqkYF55RBJCyO6UQSIu0roysZqzUIihb7ucMqB1jMgcwI7ApWsM6IWIeStyU4kyEiPlzEQxxpSzqrJQXUldhRAEDAOZIasRkN3drJIgIjEECcIsJRnhdexhWt/bRDkZs4ThTAZI3SSwMKnbsHIZDnJyKzLGtTDYYQPUMDyw5l4HTsg3SoASbgaNMw/IEBfbDRI2RlPExSgNc4MI7bnh8uCv13/GELiHaPsFx1ZKHxCzFGsr526efvEoBlrWT25eg5ipNNHbhS/u4nusS/MBNgBC2cZcDFZVC5G1MeQNGgKgrutS1VZ1AGXNvTEoggxmBOFAINKcVYSiBAL6rp/NzjXVzaiuq1qImtGoihWB3dkU2dKEG7jHGEMIKSfVLCJNU5WPGAJv0uKJOTExizM7PJuPx01Oqe9TVhOQEDxWEqSiOAnR3EvSVm7Nvuz07Tsj1HUtJIFR1VUgIoK6Zc0EiDtDy45KYxdIxaxB3H0UCuASZdBbwN05yGafb3EFcBdZg6xWcOjSW0MAinSw2E0pb5mHlHFzpdaF6XNYGkAgVBxdbSjkS9IPrGu8i7QhJAwhflMYlZ2bAz1EtGltKIY9lGwbQMPh7mrDYllmEZYQTEiHtyJbezEzs02CctHWi+cdsmEQioQcQ6z2AoNsKKMLd0iJ22ZW1/X/DXojUI7fvlcDAAAAAElFTkSuQmCC\n",
        "metadata": {
         "tags": []
        },
        "output_type": "display_data",
        "text/plain": "<PIL.Image.Image image mode=RGB size=224x179 at 0x7F5C49D53FD0>"
       }
      ]
     }
    },
    "5a8c5112047246e288894a071f593790": {
     "model_module": "@jupyter-widgets/controls",
     "model_name": "DescriptionStyleModel",
     "state": {
      "_model_module": "@jupyter-widgets/controls",
      "_model_module_version": "1.5.0",
      "_model_name": "DescriptionStyleModel",
      "_view_count": null,
      "_view_module": "@jupyter-widgets/base",
      "_view_module_version": "1.2.0",
      "_view_name": "StyleView",
      "description_width": ""
     }
    },
    "645c5e6d239e48f38485c8e365725445": {
     "model_module": "@jupyter-widgets/base",
     "model_name": "LayoutModel",
     "state": {
      "_model_module": "@jupyter-widgets/base",
      "_model_module_version": "1.2.0",
      "_model_name": "LayoutModel",
      "_view_count": null,
      "_view_module": "@jupyter-widgets/base",
      "_view_module_version": "1.2.0",
      "_view_name": "LayoutView",
      "align_content": null,
      "align_items": null,
      "align_self": null,
      "border": null,
      "bottom": null,
      "display": null,
      "flex": null,
      "flex_flow": null,
      "grid_area": null,
      "grid_auto_columns": null,
      "grid_auto_flow": null,
      "grid_auto_rows": null,
      "grid_column": null,
      "grid_gap": null,
      "grid_row": null,
      "grid_template_areas": null,
      "grid_template_columns": null,
      "grid_template_rows": null,
      "height": null,
      "justify_content": null,
      "justify_items": null,
      "left": null,
      "margin": null,
      "max_height": null,
      "max_width": null,
      "min_height": null,
      "min_width": null,
      "object_fit": null,
      "object_position": null,
      "order": null,
      "overflow": null,
      "overflow_x": null,
      "overflow_y": null,
      "padding": null,
      "right": null,
      "top": null,
      "visibility": null,
      "width": null
     }
    },
    "6cadad1bbe174927b3793aaac44e1209": {
     "model_module": "@jupyter-widgets/controls",
     "model_name": "LabelModel",
     "state": {
      "_dom_classes": [],
      "_model_module": "@jupyter-widgets/controls",
      "_model_module_version": "1.5.0",
      "_model_name": "LabelModel",
      "_view_count": null,
      "_view_module": "@jupyter-widgets/controls",
      "_view_module_version": "1.5.0",
      "_view_name": "LabelView",
      "description": "",
      "description_tooltip": null,
      "layout": "IPY_MODEL_ad4bb1275f5c443dbc5f444da18c14c3",
      "placeholder": "​",
      "style": "IPY_MODEL_5a8c5112047246e288894a071f593790",
      "value": "This looks like a kestrel."
     }
    },
    "770c4ea239944ff1aa3f81606564f009": {
     "model_module": "@jupyter-widgets/controls",
     "model_name": "VBoxModel",
     "state": {
      "_dom_classes": [],
      "_model_module": "@jupyter-widgets/controls",
      "_model_module_version": "1.5.0",
      "_model_name": "VBoxModel",
      "_view_count": null,
      "_view_module": "@jupyter-widgets/controls",
      "_view_module_version": "1.5.0",
      "_view_name": "VBoxView",
      "box_style": "",
      "children": [
       "IPY_MODEL_9a3fcc2ce92a4f24b60b0a9d937e9403",
       "IPY_MODEL_94b9f7b41d5e44e488783f2f1845fdb3",
       "IPY_MODEL_518a2ddecefb4ffdb428f2bf7bad630b",
       "IPY_MODEL_6cadad1bbe174927b3793aaac44e1209"
      ],
      "layout": "IPY_MODEL_645c5e6d239e48f38485c8e365725445"
     }
    },
    "78aa37ee73864def80837406e92208ca": {
     "model_module": "@jupyter-widgets/base",
     "model_name": "LayoutModel",
     "state": {
      "_model_module": "@jupyter-widgets/base",
      "_model_module_version": "1.2.0",
      "_model_name": "LayoutModel",
      "_view_count": null,
      "_view_module": "@jupyter-widgets/base",
      "_view_module_version": "1.2.0",
      "_view_name": "LayoutView",
      "align_content": null,
      "align_items": null,
      "align_self": null,
      "border": null,
      "bottom": null,
      "display": null,
      "flex": null,
      "flex_flow": null,
      "grid_area": null,
      "grid_auto_columns": null,
      "grid_auto_flow": null,
      "grid_auto_rows": null,
      "grid_column": null,
      "grid_gap": null,
      "grid_row": null,
      "grid_template_areas": null,
      "grid_template_columns": null,
      "grid_template_rows": null,
      "height": null,
      "justify_content": null,
      "justify_items": null,
      "left": null,
      "margin": null,
      "max_height": null,
      "max_width": null,
      "min_height": null,
      "min_width": null,
      "object_fit": null,
      "object_position": null,
      "order": null,
      "overflow": null,
      "overflow_x": null,
      "overflow_y": null,
      "padding": null,
      "right": null,
      "top": null,
      "visibility": null,
      "width": null
     }
    },
    "7e32d753d0ee454c8d1d97f0e9230610": {
     "model_module": "@jupyter-widgets/base",
     "model_name": "LayoutModel",
     "state": {
      "_model_module": "@jupyter-widgets/base",
      "_model_module_version": "1.2.0",
      "_model_name": "LayoutModel",
      "_view_count": null,
      "_view_module": "@jupyter-widgets/base",
      "_view_module_version": "1.2.0",
      "_view_name": "LayoutView",
      "align_content": null,
      "align_items": null,
      "align_self": null,
      "border": null,
      "bottom": null,
      "display": null,
      "flex": null,
      "flex_flow": null,
      "grid_area": null,
      "grid_auto_columns": null,
      "grid_auto_flow": null,
      "grid_auto_rows": null,
      "grid_column": null,
      "grid_gap": null,
      "grid_row": null,
      "grid_template_areas": null,
      "grid_template_columns": null,
      "grid_template_rows": null,
      "height": null,
      "justify_content": null,
      "justify_items": null,
      "left": null,
      "margin": null,
      "max_height": null,
      "max_width": null,
      "min_height": null,
      "min_width": null,
      "object_fit": null,
      "object_position": null,
      "order": null,
      "overflow": null,
      "overflow_x": null,
      "overflow_y": null,
      "padding": null,
      "right": null,
      "top": null,
      "visibility": null,
      "width": null
     }
    },
    "94b9f7b41d5e44e488783f2f1845fdb3": {
     "model_module": "@jupyter-widgets/controls",
     "model_name": "FileUploadModel",
     "state": {
      "_counter": 7,
      "_dom_classes": [],
      "_model_module": "@jupyter-widgets/controls",
      "_model_module_version": "1.5.0",
      "_model_name": "FileUploadModel",
      "_view_count": null,
      "_view_module": "@jupyter-widgets/controls",
      "_view_module_version": "1.5.0",
      "_view_name": "FileUploadView",
      "accept": "",
      "button_style": "",
      "data": [
       null
      ],
      "description": "Upload",
      "description_tooltip": null,
      "disabled": false,
      "error": "",
      "icon": "upload",
      "layout": "IPY_MODEL_4ee4f6637310444d8072f3ecbcf3d653",
      "metadata": [
       {
        "lastModified": 1612657948936,
        "name": "test.jfif",
        "size": 6000,
        "type": "image/jpeg"
       }
      ],
      "multiple": false,
      "style": "IPY_MODEL_d6f97077e5e84ba69816a47e476cbd16"
     }
    },
    "9a3fcc2ce92a4f24b60b0a9d937e9403": {
     "model_module": "@jupyter-widgets/controls",
     "model_name": "LabelModel",
     "state": {
      "_dom_classes": [],
      "_model_module": "@jupyter-widgets/controls",
      "_model_module_version": "1.5.0",
      "_model_name": "LabelModel",
      "_view_count": null,
      "_view_module": "@jupyter-widgets/controls",
      "_view_module_version": "1.5.0",
      "_view_name": "LabelView",
      "description": "",
      "description_tooltip": null,
      "layout": "IPY_MODEL_7e32d753d0ee454c8d1d97f0e9230610",
      "placeholder": "​",
      "style": "IPY_MODEL_fd934a8ab4684583bc319a73abe8e5fb",
      "value": "Give me a bird!"
     }
    },
    "ad4bb1275f5c443dbc5f444da18c14c3": {
     "model_module": "@jupyter-widgets/base",
     "model_name": "LayoutModel",
     "state": {
      "_model_module": "@jupyter-widgets/base",
      "_model_module_version": "1.2.0",
      "_model_name": "LayoutModel",
      "_view_count": null,
      "_view_module": "@jupyter-widgets/base",
      "_view_module_version": "1.2.0",
      "_view_name": "LayoutView",
      "align_content": null,
      "align_items": null,
      "align_self": null,
      "border": null,
      "bottom": null,
      "display": null,
      "flex": null,
      "flex_flow": null,
      "grid_area": null,
      "grid_auto_columns": null,
      "grid_auto_flow": null,
      "grid_auto_rows": null,
      "grid_column": null,
      "grid_gap": null,
      "grid_row": null,
      "grid_template_areas": null,
      "grid_template_columns": null,
      "grid_template_rows": null,
      "height": null,
      "justify_content": null,
      "justify_items": null,
      "left": null,
      "margin": null,
      "max_height": null,
      "max_width": null,
      "min_height": null,
      "min_width": null,
      "object_fit": null,
      "object_position": null,
      "order": null,
      "overflow": null,
      "overflow_x": null,
      "overflow_y": null,
      "padding": null,
      "right": null,
      "top": null,
      "visibility": null,
      "width": null
     }
    },
    "d6f97077e5e84ba69816a47e476cbd16": {
     "model_module": "@jupyter-widgets/controls",
     "model_name": "ButtonStyleModel",
     "state": {
      "_model_module": "@jupyter-widgets/controls",
      "_model_module_version": "1.5.0",
      "_model_name": "ButtonStyleModel",
      "_view_count": null,
      "_view_module": "@jupyter-widgets/base",
      "_view_module_version": "1.2.0",
      "_view_name": "StyleView",
      "button_color": null,
      "font_weight": ""
     }
    },
    "fd934a8ab4684583bc319a73abe8e5fb": {
     "model_module": "@jupyter-widgets/controls",
     "model_name": "DescriptionStyleModel",
     "state": {
      "_model_module": "@jupyter-widgets/controls",
      "_model_module_version": "1.5.0",
      "_model_name": "DescriptionStyleModel",
      "_view_count": null,
      "_view_module": "@jupyter-widgets/base",
      "_view_module_version": "1.2.0",
      "_view_name": "StyleView",
      "description_width": ""
     }
    }
   }
  }
 },
 "nbformat": 4,
 "nbformat_minor": 1
}
